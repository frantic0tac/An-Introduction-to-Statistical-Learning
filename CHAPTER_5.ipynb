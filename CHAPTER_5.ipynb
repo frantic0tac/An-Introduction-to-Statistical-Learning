{
 "cells": [
  {
   "cell_type": "markdown",
   "id": "0ac17d03-d068-425b-afcf-24d6c8b18991",
   "metadata": {},
   "source": [
    "# CHAPTER 5: Applied"
   ]
  },
  {
   "cell_type": "markdown",
   "id": "0cf05443-b481-41aa-9db2-21f54552ca1d",
   "metadata": {},
   "source": [
    "### 5."
   ]
  },
  {
   "cell_type": "code",
   "execution_count": 1,
   "id": "b22bd067-4a04-4bef-9611-0b8335a39eb5",
   "metadata": {},
   "outputs": [],
   "source": [
    "import numpy as np\n",
    "import pandas as pd\n",
    "import matplotlib.pyplot as plt\n",
    "import seaborn as sns\n",
    "from ISLP.models import (ModelSpec as MS,\n",
    "                         summarize,\n",
    "                         poly)\n",
    "from ISLP import confusion_table\n",
    "from ISLP import load_data\n",
    "from sklearn.model_selection import train_test_split\n",
    "import statsmodels.api as sm\n",
    "import statsmodels.formula.api as smf\n",
    "from functools import partial\n",
    "from sklearn.model_selection import \\\n",
    "     (cross_validate,\n",
    "      KFold,\n",
    "      ShuffleSplit)\n",
    "from sklearn.base import clone\n",
    "from ISLP.models import sklearn_sm\n",
    "import scipy.stats as st"
   ]
  },
  {
   "cell_type": "code",
   "execution_count": 2,
   "id": "793fe1cd-caf3-4617-a3c7-9d27f20dbf8f",
   "metadata": {},
   "outputs": [
    {
     "data": {
      "text/html": [
       "<div>\n",
       "<style scoped>\n",
       "    .dataframe tbody tr th:only-of-type {\n",
       "        vertical-align: middle;\n",
       "    }\n",
       "\n",
       "    .dataframe tbody tr th {\n",
       "        vertical-align: top;\n",
       "    }\n",
       "\n",
       "    .dataframe thead th {\n",
       "        text-align: right;\n",
       "    }\n",
       "</style>\n",
       "<table border=\"1\" class=\"dataframe\">\n",
       "  <thead>\n",
       "    <tr style=\"text-align: right;\">\n",
       "      <th></th>\n",
       "      <th>default</th>\n",
       "      <th>student</th>\n",
       "      <th>balance</th>\n",
       "      <th>income</th>\n",
       "    </tr>\n",
       "  </thead>\n",
       "  <tbody>\n",
       "    <tr>\n",
       "      <th>1</th>\n",
       "      <td>No</td>\n",
       "      <td>No</td>\n",
       "      <td>729.526495</td>\n",
       "      <td>44361.625074</td>\n",
       "    </tr>\n",
       "    <tr>\n",
       "      <th>2</th>\n",
       "      <td>No</td>\n",
       "      <td>Yes</td>\n",
       "      <td>817.180407</td>\n",
       "      <td>12106.134700</td>\n",
       "    </tr>\n",
       "    <tr>\n",
       "      <th>3</th>\n",
       "      <td>No</td>\n",
       "      <td>No</td>\n",
       "      <td>1073.549164</td>\n",
       "      <td>31767.138947</td>\n",
       "    </tr>\n",
       "    <tr>\n",
       "      <th>4</th>\n",
       "      <td>No</td>\n",
       "      <td>No</td>\n",
       "      <td>529.250605</td>\n",
       "      <td>35704.493935</td>\n",
       "    </tr>\n",
       "    <tr>\n",
       "      <th>5</th>\n",
       "      <td>No</td>\n",
       "      <td>No</td>\n",
       "      <td>785.655883</td>\n",
       "      <td>38463.495879</td>\n",
       "    </tr>\n",
       "    <tr>\n",
       "      <th>...</th>\n",
       "      <td>...</td>\n",
       "      <td>...</td>\n",
       "      <td>...</td>\n",
       "      <td>...</td>\n",
       "    </tr>\n",
       "    <tr>\n",
       "      <th>9996</th>\n",
       "      <td>No</td>\n",
       "      <td>No</td>\n",
       "      <td>711.555020</td>\n",
       "      <td>52992.378914</td>\n",
       "    </tr>\n",
       "    <tr>\n",
       "      <th>9997</th>\n",
       "      <td>No</td>\n",
       "      <td>No</td>\n",
       "      <td>757.962918</td>\n",
       "      <td>19660.721768</td>\n",
       "    </tr>\n",
       "    <tr>\n",
       "      <th>9998</th>\n",
       "      <td>No</td>\n",
       "      <td>No</td>\n",
       "      <td>845.411989</td>\n",
       "      <td>58636.156984</td>\n",
       "    </tr>\n",
       "    <tr>\n",
       "      <th>9999</th>\n",
       "      <td>No</td>\n",
       "      <td>No</td>\n",
       "      <td>1569.009053</td>\n",
       "      <td>36669.112365</td>\n",
       "    </tr>\n",
       "    <tr>\n",
       "      <th>10000</th>\n",
       "      <td>No</td>\n",
       "      <td>Yes</td>\n",
       "      <td>200.922183</td>\n",
       "      <td>16862.952321</td>\n",
       "    </tr>\n",
       "  </tbody>\n",
       "</table>\n",
       "<p>10000 rows × 4 columns</p>\n",
       "</div>"
      ],
      "text/plain": [
       "      default student      balance        income\n",
       "1          No      No   729.526495  44361.625074\n",
       "2          No     Yes   817.180407  12106.134700\n",
       "3          No      No  1073.549164  31767.138947\n",
       "4          No      No   529.250605  35704.493935\n",
       "5          No      No   785.655883  38463.495879\n",
       "...       ...     ...          ...           ...\n",
       "9996       No      No   711.555020  52992.378914\n",
       "9997       No      No   757.962918  19660.721768\n",
       "9998       No      No   845.411989  58636.156984\n",
       "9999       No      No  1569.009053  36669.112365\n",
       "10000      No     Yes   200.922183  16862.952321\n",
       "\n",
       "[10000 rows x 4 columns]"
      ]
     },
     "execution_count": 2,
     "metadata": {},
     "output_type": "execute_result"
    }
   ],
   "source": [
    "credit_default = pd.read_csv('Credit Card Default Data.csv', index_col=0)\n",
    "credit_default"
   ]
  },
  {
   "cell_type": "code",
   "execution_count": 3,
   "id": "529b49a0-57bf-4ecd-afd8-0afe472bd645",
   "metadata": {},
   "outputs": [],
   "source": [
    "X_train, X_test, y_train, y_test = train_test_split(credit_default , credit_default['default'], test_size = 0.25, random_state = 100)"
   ]
  },
  {
   "cell_type": "markdown",
   "id": "77f750a6-b148-4289-add8-07b6bcbbf295",
   "metadata": {},
   "source": [
    "#### (a)"
   ]
  },
  {
   "cell_type": "code",
   "execution_count": 4,
   "id": "0d36f774-3396-44f6-b442-40612eecf611",
   "metadata": {},
   "outputs": [],
   "source": [
    "X0=credit_default[['income','balance']]\n",
    "X0=sm.add_constant(X0)\n",
    "y0=credit_default.default== 'Yes'"
   ]
  },
  {
   "cell_type": "code",
   "execution_count": 5,
   "id": "e065cc6c-9723-49c8-851a-12f89af42f09",
   "metadata": {},
   "outputs": [
    {
     "data": {
      "text/html": [
       "<table class=\"simpletable\">\n",
       "<caption>Generalized Linear Model Regression Results</caption>\n",
       "<tr>\n",
       "  <th>Dep. Variable:</th>        <td>default</td>     <th>  No. Observations:  </th>  <td> 10000</td> \n",
       "</tr>\n",
       "<tr>\n",
       "  <th>Model:</th>                  <td>GLM</td>       <th>  Df Residuals:      </th>  <td>  9997</td> \n",
       "</tr>\n",
       "<tr>\n",
       "  <th>Model Family:</th>        <td>Binomial</td>     <th>  Df Model:          </th>  <td>     2</td> \n",
       "</tr>\n",
       "<tr>\n",
       "  <th>Link Function:</th>         <td>Logit</td>      <th>  Scale:             </th> <td>  1.0000</td>\n",
       "</tr>\n",
       "<tr>\n",
       "  <th>Method:</th>                <td>IRLS</td>       <th>  Log-Likelihood:    </th> <td> -789.48</td>\n",
       "</tr>\n",
       "<tr>\n",
       "  <th>Date:</th>            <td>Fri, 03 May 2024</td> <th>  Deviance:          </th> <td>  1579.0</td>\n",
       "</tr>\n",
       "<tr>\n",
       "  <th>Time:</th>                <td>20:53:42</td>     <th>  Pearson chi2:      </th> <td>6.95e+03</td>\n",
       "</tr>\n",
       "<tr>\n",
       "  <th>No. Iterations:</th>          <td>9</td>        <th>  Pseudo R-squ. (CS):</th>  <td>0.1256</td> \n",
       "</tr>\n",
       "<tr>\n",
       "  <th>Covariance Type:</th>     <td>nonrobust</td>    <th>                     </th>     <td> </td>   \n",
       "</tr>\n",
       "</table>\n",
       "<table class=\"simpletable\">\n",
       "<tr>\n",
       "     <td></td>        <th>coef</th>     <th>std err</th>      <th>z</th>      <th>P>|z|</th>  <th>[0.025</th>    <th>0.975]</th>  \n",
       "</tr>\n",
       "<tr>\n",
       "  <th>const</th>   <td>  -11.5405</td> <td>    0.435</td> <td>  -26.544</td> <td> 0.000</td> <td>  -12.393</td> <td>  -10.688</td>\n",
       "</tr>\n",
       "<tr>\n",
       "  <th>income</th>  <td> 2.081e-05</td> <td> 4.99e-06</td> <td>    4.174</td> <td> 0.000</td> <td>  1.1e-05</td> <td> 3.06e-05</td>\n",
       "</tr>\n",
       "<tr>\n",
       "  <th>balance</th> <td>    0.0056</td> <td>    0.000</td> <td>   24.835</td> <td> 0.000</td> <td>    0.005</td> <td>    0.006</td>\n",
       "</tr>\n",
       "</table>"
      ],
      "text/latex": [
       "\\begin{center}\n",
       "\\begin{tabular}{lclc}\n",
       "\\toprule\n",
       "\\textbf{Dep. Variable:}   &     default      & \\textbf{  No. Observations:  } &    10000    \\\\\n",
       "\\textbf{Model:}           &       GLM        & \\textbf{  Df Residuals:      } &     9997    \\\\\n",
       "\\textbf{Model Family:}    &     Binomial     & \\textbf{  Df Model:          } &        2    \\\\\n",
       "\\textbf{Link Function:}   &      Logit       & \\textbf{  Scale:             } &    1.0000   \\\\\n",
       "\\textbf{Method:}          &       IRLS       & \\textbf{  Log-Likelihood:    } &   -789.48   \\\\\n",
       "\\textbf{Date:}            & Fri, 03 May 2024 & \\textbf{  Deviance:          } &    1579.0   \\\\\n",
       "\\textbf{Time:}            &     20:53:42     & \\textbf{  Pearson chi2:      } &  6.95e+03   \\\\\n",
       "\\textbf{No. Iterations:}  &        9         & \\textbf{  Pseudo R-squ. (CS):} &   0.1256    \\\\\n",
       "\\textbf{Covariance Type:} &    nonrobust     & \\textbf{                     } &             \\\\\n",
       "\\bottomrule\n",
       "\\end{tabular}\n",
       "\\begin{tabular}{lcccccc}\n",
       "                 & \\textbf{coef} & \\textbf{std err} & \\textbf{z} & \\textbf{P$> |$z$|$} & \\textbf{[0.025} & \\textbf{0.975]}  \\\\\n",
       "\\midrule\n",
       "\\textbf{const}   &     -11.5405  &        0.435     &   -26.544  &         0.000        &      -12.393    &      -10.688     \\\\\n",
       "\\textbf{income}  &    2.081e-05  &     4.99e-06     &     4.174  &         0.000        &      1.1e-05    &     3.06e-05     \\\\\n",
       "\\textbf{balance} &       0.0056  &        0.000     &    24.835  &         0.000        &        0.005    &        0.006     \\\\\n",
       "\\bottomrule\n",
       "\\end{tabular}\n",
       "%\\caption{Generalized Linear Model Regression Results}\n",
       "\\end{center}"
      ],
      "text/plain": [
       "<class 'statsmodels.iolib.summary.Summary'>\n",
       "\"\"\"\n",
       "                 Generalized Linear Model Regression Results                  \n",
       "==============================================================================\n",
       "Dep. Variable:                default   No. Observations:                10000\n",
       "Model:                            GLM   Df Residuals:                     9997\n",
       "Model Family:                Binomial   Df Model:                            2\n",
       "Link Function:                  Logit   Scale:                          1.0000\n",
       "Method:                          IRLS   Log-Likelihood:                -789.48\n",
       "Date:                Fri, 03 May 2024   Deviance:                       1579.0\n",
       "Time:                        20:53:42   Pearson chi2:                 6.95e+03\n",
       "No. Iterations:                     9   Pseudo R-squ. (CS):             0.1256\n",
       "Covariance Type:            nonrobust                                         \n",
       "==============================================================================\n",
       "                 coef    std err          z      P>|z|      [0.025      0.975]\n",
       "------------------------------------------------------------------------------\n",
       "const        -11.5405      0.435    -26.544      0.000     -12.393     -10.688\n",
       "income      2.081e-05   4.99e-06      4.174      0.000     1.1e-05    3.06e-05\n",
       "balance        0.0056      0.000     24.835      0.000       0.005       0.006\n",
       "==============================================================================\n",
       "\"\"\""
      ]
     },
     "execution_count": 5,
     "metadata": {},
     "output_type": "execute_result"
    }
   ],
   "source": [
    "glm = sm.GLM(y0,X0,family=sm.families.Binomial())\n",
    "results = glm.fit()\n",
    "results.summary()"
   ]
  },
  {
   "cell_type": "markdown",
   "id": "96699db1-5595-4cb8-bb40-cdf9e73cc3ea",
   "metadata": {},
   "source": [
    "#### (b)"
   ]
  },
  {
   "cell_type": "code",
   "execution_count": 6,
   "id": "440fd42c-bec5-44ee-9f0d-186157e44623",
   "metadata": {},
   "outputs": [],
   "source": [
    "X1_train=X_train[['income','balance']]\n",
    "X1_train=sm.add_constant(X1_train)\n",
    "\n",
    "X1_test=X_test[['income','balance']]\n",
    "X1_test=sm.add_constant(X1_test)\n",
    "\n",
    "y1_train=[]\n",
    "y1_test=[]\n",
    "\n",
    "for el in y_train:\n",
    "    if el==\"Yes\":\n",
    "        y1_train.append(1)\n",
    "    elif el==\"No\":\n",
    "        y1_train.append(0)\n",
    "\n",
    "for el in y_test:\n",
    "    if el==\"Yes\":\n",
    "        y1_test.append(1)\n",
    "    elif el==\"No\":\n",
    "        y1_test.append(0)"
   ]
  },
  {
   "cell_type": "code",
   "execution_count": 7,
   "id": "d53bb9bd-91c7-4761-8c33-d736536ed1f5",
   "metadata": {},
   "outputs": [
    {
     "data": {
      "text/html": [
       "<table class=\"simpletable\">\n",
       "<caption>Generalized Linear Model Regression Results</caption>\n",
       "<tr>\n",
       "  <th>Dep. Variable:</th>           <td>y</td>        <th>  No. Observations:  </th>  <td>  7500</td> \n",
       "</tr>\n",
       "<tr>\n",
       "  <th>Model:</th>                  <td>GLM</td>       <th>  Df Residuals:      </th>  <td>  7497</td> \n",
       "</tr>\n",
       "<tr>\n",
       "  <th>Model Family:</th>        <td>Binomial</td>     <th>  Df Model:          </th>  <td>     2</td> \n",
       "</tr>\n",
       "<tr>\n",
       "  <th>Link Function:</th>         <td>Logit</td>      <th>  Scale:             </th> <td>  1.0000</td>\n",
       "</tr>\n",
       "<tr>\n",
       "  <th>Method:</th>                <td>IRLS</td>       <th>  Log-Likelihood:    </th> <td> -584.94</td>\n",
       "</tr>\n",
       "<tr>\n",
       "  <th>Date:</th>            <td>Fri, 03 May 2024</td> <th>  Deviance:          </th> <td>  1169.9</td>\n",
       "</tr>\n",
       "<tr>\n",
       "  <th>Time:</th>                <td>20:53:42</td>     <th>  Pearson chi2:      </th> <td>4.65e+03</td>\n",
       "</tr>\n",
       "<tr>\n",
       "  <th>No. Iterations:</th>          <td>9</td>        <th>  Pseudo R-squ. (CS):</th>  <td>0.1329</td> \n",
       "</tr>\n",
       "<tr>\n",
       "  <th>Covariance Type:</th>     <td>nonrobust</td>    <th>                     </th>     <td> </td>   \n",
       "</tr>\n",
       "</table>\n",
       "<table class=\"simpletable\">\n",
       "<tr>\n",
       "     <td></td>        <th>coef</th>     <th>std err</th>      <th>z</th>      <th>P>|z|</th>  <th>[0.025</th>    <th>0.975]</th>  \n",
       "</tr>\n",
       "<tr>\n",
       "  <th>const</th>   <td>  -11.8944</td> <td>    0.516</td> <td>  -23.064</td> <td> 0.000</td> <td>  -12.905</td> <td>  -10.884</td>\n",
       "</tr>\n",
       "<tr>\n",
       "  <th>income</th>  <td> 2.358e-05</td> <td> 5.77e-06</td> <td>    4.085</td> <td> 0.000</td> <td> 1.23e-05</td> <td> 3.49e-05</td>\n",
       "</tr>\n",
       "<tr>\n",
       "  <th>balance</th> <td>    0.0058</td> <td>    0.000</td> <td>   21.714</td> <td> 0.000</td> <td>    0.005</td> <td>    0.006</td>\n",
       "</tr>\n",
       "</table>"
      ],
      "text/latex": [
       "\\begin{center}\n",
       "\\begin{tabular}{lclc}\n",
       "\\toprule\n",
       "\\textbf{Dep. Variable:}   &        y         & \\textbf{  No. Observations:  } &     7500    \\\\\n",
       "\\textbf{Model:}           &       GLM        & \\textbf{  Df Residuals:      } &     7497    \\\\\n",
       "\\textbf{Model Family:}    &     Binomial     & \\textbf{  Df Model:          } &        2    \\\\\n",
       "\\textbf{Link Function:}   &      Logit       & \\textbf{  Scale:             } &    1.0000   \\\\\n",
       "\\textbf{Method:}          &       IRLS       & \\textbf{  Log-Likelihood:    } &   -584.94   \\\\\n",
       "\\textbf{Date:}            & Fri, 03 May 2024 & \\textbf{  Deviance:          } &    1169.9   \\\\\n",
       "\\textbf{Time:}            &     20:53:42     & \\textbf{  Pearson chi2:      } &  4.65e+03   \\\\\n",
       "\\textbf{No. Iterations:}  &        9         & \\textbf{  Pseudo R-squ. (CS):} &   0.1329    \\\\\n",
       "\\textbf{Covariance Type:} &    nonrobust     & \\textbf{                     } &             \\\\\n",
       "\\bottomrule\n",
       "\\end{tabular}\n",
       "\\begin{tabular}{lcccccc}\n",
       "                 & \\textbf{coef} & \\textbf{std err} & \\textbf{z} & \\textbf{P$> |$z$|$} & \\textbf{[0.025} & \\textbf{0.975]}  \\\\\n",
       "\\midrule\n",
       "\\textbf{const}   &     -11.8944  &        0.516     &   -23.064  &         0.000        &      -12.905    &      -10.884     \\\\\n",
       "\\textbf{income}  &    2.358e-05  &     5.77e-06     &     4.085  &         0.000        &     1.23e-05    &     3.49e-05     \\\\\n",
       "\\textbf{balance} &       0.0058  &        0.000     &    21.714  &         0.000        &        0.005    &        0.006     \\\\\n",
       "\\bottomrule\n",
       "\\end{tabular}\n",
       "%\\caption{Generalized Linear Model Regression Results}\n",
       "\\end{center}"
      ],
      "text/plain": [
       "<class 'statsmodels.iolib.summary.Summary'>\n",
       "\"\"\"\n",
       "                 Generalized Linear Model Regression Results                  \n",
       "==============================================================================\n",
       "Dep. Variable:                      y   No. Observations:                 7500\n",
       "Model:                            GLM   Df Residuals:                     7497\n",
       "Model Family:                Binomial   Df Model:                            2\n",
       "Link Function:                  Logit   Scale:                          1.0000\n",
       "Method:                          IRLS   Log-Likelihood:                -584.94\n",
       "Date:                Fri, 03 May 2024   Deviance:                       1169.9\n",
       "Time:                        20:53:42   Pearson chi2:                 4.65e+03\n",
       "No. Iterations:                     9   Pseudo R-squ. (CS):             0.1329\n",
       "Covariance Type:            nonrobust                                         \n",
       "==============================================================================\n",
       "                 coef    std err          z      P>|z|      [0.025      0.975]\n",
       "------------------------------------------------------------------------------\n",
       "const        -11.8944      0.516    -23.064      0.000     -12.905     -10.884\n",
       "income      2.358e-05   5.77e-06      4.085      0.000    1.23e-05    3.49e-05\n",
       "balance        0.0058      0.000     21.714      0.000       0.005       0.006\n",
       "==============================================================================\n",
       "\"\"\""
      ]
     },
     "execution_count": 7,
     "metadata": {},
     "output_type": "execute_result"
    }
   ],
   "source": [
    "glm = sm.GLM(y1_train,X1_train,family=sm.families.Binomial())\n",
    "results = glm.fit()\n",
    "results.summary()"
   ]
  },
  {
   "cell_type": "code",
   "execution_count": 8,
   "id": "86f782ce-1438-4f6a-a128-42f2027a2604",
   "metadata": {},
   "outputs": [
    {
     "data": {
      "text/html": [
       "<div>\n",
       "<style scoped>\n",
       "    .dataframe tbody tr th:only-of-type {\n",
       "        vertical-align: middle;\n",
       "    }\n",
       "\n",
       "    .dataframe tbody tr th {\n",
       "        vertical-align: top;\n",
       "    }\n",
       "\n",
       "    .dataframe thead th {\n",
       "        text-align: right;\n",
       "    }\n",
       "</style>\n",
       "<table border=\"1\" class=\"dataframe\">\n",
       "  <thead>\n",
       "    <tr style=\"text-align: right;\">\n",
       "      <th>Truth</th>\n",
       "      <th>No</th>\n",
       "      <th>Yes</th>\n",
       "    </tr>\n",
       "    <tr>\n",
       "      <th>Predicted</th>\n",
       "      <th></th>\n",
       "      <th></th>\n",
       "    </tr>\n",
       "  </thead>\n",
       "  <tbody>\n",
       "    <tr>\n",
       "      <th>No</th>\n",
       "      <td>2414</td>\n",
       "      <td>10</td>\n",
       "    </tr>\n",
       "    <tr>\n",
       "      <th>Yes</th>\n",
       "      <td>55</td>\n",
       "      <td>21</td>\n",
       "    </tr>\n",
       "  </tbody>\n",
       "</table>\n",
       "</div>"
      ],
      "text/plain": [
       "Truth        No  Yes\n",
       "Predicted           \n",
       "No         2414   10\n",
       "Yes          55   21"
      ]
     },
     "execution_count": 8,
     "metadata": {},
     "output_type": "execute_result"
    }
   ],
   "source": [
    "probs = results.predict(exog=X1_test)\n",
    "labels=[]\n",
    "for el in probs:\n",
    "    if el>0.5:\n",
    "        labels.append(\"Yes\")\n",
    "    else:\n",
    "        labels.append(\"No\")\n",
    "\n",
    "confusion_table(y_test, labels)"
   ]
  },
  {
   "cell_type": "code",
   "execution_count": 9,
   "id": "1bbeedb5-e555-4339-b60e-246ecb131fae",
   "metadata": {},
   "outputs": [
    {
     "data": {
      "text/plain": [
       "0.026000000000000023"
      ]
     },
     "execution_count": 9,
     "metadata": {},
     "output_type": "execute_result"
    }
   ],
   "source": [
    "1-np.mean(labels == y_test)"
   ]
  },
  {
   "cell_type": "code",
   "execution_count": 10,
   "id": "b1764293-976e-48d9-a1bd-a20a4a0aec70",
   "metadata": {},
   "outputs": [],
   "source": [
    "models_results=pd.DataFrame()\n",
    "models_results['Model']=None\n",
    "models_results['Test_error']=None\n",
    "models_results.loc[len(models_results)] = ['Logistic regression (75.0%/25.0%)', 1-np.mean(labels == y_test)]"
   ]
  },
  {
   "cell_type": "code",
   "execution_count": 11,
   "id": "cc88713f-1813-4c61-a985-afc65afbef41",
   "metadata": {},
   "outputs": [],
   "source": [
    "def test_models (percent):\n",
    "    if percent <=1:\n",
    "        pass\n",
    "    else:\n",
    "        percent=percent/100\n",
    "    X_train, X_test, y_train, y_test = train_test_split(credit_default , credit_default['default'], test_size = percent, random_state = 100)\n",
    "    X2_train=X_train[['income','balance']]\n",
    "    X2_train=sm.add_constant(X2_train)\n",
    "    \n",
    "    X2_test=X_test[['income','balance']]\n",
    "    X2_test=sm.add_constant(X2_test)\n",
    "\n",
    "\n",
    "    y2_train=[]\n",
    "    y2_test=[]\n",
    "    \n",
    "    for el in y_train:\n",
    "        if el==\"Yes\":\n",
    "            y2_train.append(1)\n",
    "        elif el==\"No\":\n",
    "            y2_train.append(0)\n",
    "    \n",
    "    for el in y_test:\n",
    "        if el==\"Yes\":\n",
    "            y2_test.append(1)\n",
    "        elif el==\"No\":\n",
    "            y2_test.append(0)\n",
    "\n",
    "    glm = sm.GLM(y2_train,X2_train,family=sm.families.Binomial())\n",
    "    results = glm.fit()\n",
    "    results.summary()\n",
    "    probs = results.predict(exog=X2_test)\n",
    "    \n",
    "    labels=[]\n",
    "    for el in probs:\n",
    "        if el>0.5:\n",
    "            labels.append(\"Yes\")\n",
    "        else:\n",
    "            labels.append(\"No\")\n",
    "\n",
    "    models_results.loc[len(models_results)] = [f'Logistic regression ({(1-percent)*100}%/{(percent)*100}%)', 1-np.mean(labels == y_test)]\n",
    "    \n",
    "    #return confusion_table(y_test, labels)\n",
    "    #return np.mean(labels == y_test)"
   ]
  },
  {
   "cell_type": "code",
   "execution_count": 12,
   "id": "c9730d6b-491e-472a-bed3-92eed133087f",
   "metadata": {},
   "outputs": [],
   "source": [
    "test_models(10)"
   ]
  },
  {
   "cell_type": "code",
   "execution_count": 13,
   "id": "897384fd-c424-44bc-b11c-a90e291c3822",
   "metadata": {},
   "outputs": [],
   "source": [
    "test_models(30)"
   ]
  },
  {
   "cell_type": "code",
   "execution_count": 14,
   "id": "da365334-3767-443d-aca9-6a37c2446b88",
   "metadata": {},
   "outputs": [],
   "source": [
    "test_models(40)"
   ]
  },
  {
   "cell_type": "code",
   "execution_count": 15,
   "id": "bb8d8df7-dab1-4dd6-a49d-b375c6c26927",
   "metadata": {},
   "outputs": [
    {
     "data": {
      "text/html": [
       "<div>\n",
       "<style scoped>\n",
       "    .dataframe tbody tr th:only-of-type {\n",
       "        vertical-align: middle;\n",
       "    }\n",
       "\n",
       "    .dataframe tbody tr th {\n",
       "        vertical-align: top;\n",
       "    }\n",
       "\n",
       "    .dataframe thead th {\n",
       "        text-align: right;\n",
       "    }\n",
       "</style>\n",
       "<table border=\"1\" class=\"dataframe\">\n",
       "  <thead>\n",
       "    <tr style=\"text-align: right;\">\n",
       "      <th></th>\n",
       "      <th>Model</th>\n",
       "      <th>Test_error</th>\n",
       "    </tr>\n",
       "  </thead>\n",
       "  <tbody>\n",
       "    <tr>\n",
       "      <th>0</th>\n",
       "      <td>Logistic regression (75.0%/25.0%)</td>\n",
       "      <td>0.0260</td>\n",
       "    </tr>\n",
       "    <tr>\n",
       "      <th>1</th>\n",
       "      <td>Logistic regression (90.0%/10.0%)</td>\n",
       "      <td>0.0280</td>\n",
       "    </tr>\n",
       "    <tr>\n",
       "      <th>2</th>\n",
       "      <td>Logistic regression (70.0%/30.0%)</td>\n",
       "      <td>0.0270</td>\n",
       "    </tr>\n",
       "    <tr>\n",
       "      <th>3</th>\n",
       "      <td>Logistic regression (60.0%/40.0%)</td>\n",
       "      <td>0.0275</td>\n",
       "    </tr>\n",
       "  </tbody>\n",
       "</table>\n",
       "</div>"
      ],
      "text/plain": [
       "                               Model  Test_error\n",
       "0  Logistic regression (75.0%/25.0%)      0.0260\n",
       "1  Logistic regression (90.0%/10.0%)      0.0280\n",
       "2  Logistic regression (70.0%/30.0%)      0.0270\n",
       "3  Logistic regression (60.0%/40.0%)      0.0275"
      ]
     },
     "execution_count": 15,
     "metadata": {},
     "output_type": "execute_result"
    }
   ],
   "source": [
    "models_results"
   ]
  },
  {
   "cell_type": "markdown",
   "id": "61da5392-b7c4-40af-9436-ad416508169e",
   "metadata": {},
   "source": [
    "#### (c)"
   ]
  },
  {
   "cell_type": "code",
   "execution_count": 16,
   "id": "191893a1-b9ce-4dc2-a197-bdb9ba0eb3c0",
   "metadata": {},
   "outputs": [
    {
     "data": {
      "text/html": [
       "<div>\n",
       "<style scoped>\n",
       "    .dataframe tbody tr th:only-of-type {\n",
       "        vertical-align: middle;\n",
       "    }\n",
       "\n",
       "    .dataframe tbody tr th {\n",
       "        vertical-align: top;\n",
       "    }\n",
       "\n",
       "    .dataframe thead th {\n",
       "        text-align: right;\n",
       "    }\n",
       "</style>\n",
       "<table border=\"1\" class=\"dataframe\">\n",
       "  <thead>\n",
       "    <tr style=\"text-align: right;\">\n",
       "      <th></th>\n",
       "      <th>default</th>\n",
       "      <th>balance</th>\n",
       "      <th>income</th>\n",
       "      <th>student_Yes</th>\n",
       "    </tr>\n",
       "  </thead>\n",
       "  <tbody>\n",
       "    <tr>\n",
       "      <th>1</th>\n",
       "      <td>No</td>\n",
       "      <td>729.526495</td>\n",
       "      <td>44361.625074</td>\n",
       "      <td>0</td>\n",
       "    </tr>\n",
       "    <tr>\n",
       "      <th>2</th>\n",
       "      <td>No</td>\n",
       "      <td>817.180407</td>\n",
       "      <td>12106.134700</td>\n",
       "      <td>1</td>\n",
       "    </tr>\n",
       "  </tbody>\n",
       "</table>\n",
       "</div>"
      ],
      "text/plain": [
       "  default     balance        income  student_Yes\n",
       "1      No  729.526495  44361.625074            0\n",
       "2      No  817.180407  12106.134700            1"
      ]
     },
     "execution_count": 16,
     "metadata": {},
     "output_type": "execute_result"
    }
   ],
   "source": [
    "credit_default = pd.get_dummies(credit_default,columns=['student'], drop_first= True)\n",
    "credit_default.head(2)"
   ]
  },
  {
   "cell_type": "code",
   "execution_count": 17,
   "id": "748f0a6f-4bc9-47e5-a96a-5b8bda8ced02",
   "metadata": {},
   "outputs": [],
   "source": [
    "X_train, X_test, y_train, y_test = train_test_split(credit_default , credit_default['default'], test_size = 0.25, random_state = 100)\n",
    "X3_train=X_train[['income','balance','student_Yes']]\n",
    "X3_train=sm.add_constant(X3_train)\n",
    "\n",
    "X3_test=X_test[['income','balance','student_Yes']]\n",
    "X3_test=sm.add_constant(X3_test)\n",
    "\n",
    "y3_train=[]\n",
    "y3_test=[]\n",
    "\n",
    "for el in y_train:\n",
    "    if el==\"Yes\":\n",
    "        y3_train.append(1)\n",
    "    elif el==\"No\":\n",
    "        y3_train.append(0)\n",
    "\n",
    "for el in y_test:\n",
    "    if el==\"Yes\":\n",
    "        y3_test.append(1)\n",
    "    elif el==\"No\":\n",
    "        y3_test.append(0)"
   ]
  },
  {
   "cell_type": "code",
   "execution_count": 18,
   "id": "c6bb78b5-f8e2-48f1-b8c6-18c9dcc3c8d3",
   "metadata": {},
   "outputs": [
    {
     "data": {
      "text/html": [
       "<table class=\"simpletable\">\n",
       "<caption>Generalized Linear Model Regression Results</caption>\n",
       "<tr>\n",
       "  <th>Dep. Variable:</th>           <td>y</td>        <th>  No. Observations:  </th>  <td>  7500</td> \n",
       "</tr>\n",
       "<tr>\n",
       "  <th>Model:</th>                  <td>GLM</td>       <th>  Df Residuals:      </th>  <td>  7496</td> \n",
       "</tr>\n",
       "<tr>\n",
       "  <th>Model Family:</th>        <td>Binomial</td>     <th>  Df Model:          </th>  <td>     3</td> \n",
       "</tr>\n",
       "<tr>\n",
       "  <th>Link Function:</th>         <td>Logit</td>      <th>  Scale:             </th> <td>  1.0000</td>\n",
       "</tr>\n",
       "<tr>\n",
       "  <th>Method:</th>                <td>IRLS</td>       <th>  Log-Likelihood:    </th> <td> -581.57</td>\n",
       "</tr>\n",
       "<tr>\n",
       "  <th>Date:</th>            <td>Fri, 03 May 2024</td> <th>  Deviance:          </th> <td>  1163.1</td>\n",
       "</tr>\n",
       "<tr>\n",
       "  <th>Time:</th>                <td>20:53:43</td>     <th>  Pearson chi2:      </th> <td>4.89e+03</td>\n",
       "</tr>\n",
       "<tr>\n",
       "  <th>No. Iterations:</th>          <td>9</td>        <th>  Pseudo R-squ. (CS):</th>  <td>0.1336</td> \n",
       "</tr>\n",
       "<tr>\n",
       "  <th>Covariance Type:</th>     <td>nonrobust</td>    <th>                     </th>     <td> </td>   \n",
       "</tr>\n",
       "</table>\n",
       "<table class=\"simpletable\">\n",
       "<tr>\n",
       "       <td></td>          <th>coef</th>     <th>std err</th>      <th>z</th>      <th>P>|z|</th>  <th>[0.025</th>    <th>0.975]</th>  \n",
       "</tr>\n",
       "<tr>\n",
       "  <th>const</th>       <td>  -11.1634</td> <td>    0.578</td> <td>  -19.317</td> <td> 0.000</td> <td>  -12.296</td> <td>  -10.031</td>\n",
       "</tr>\n",
       "<tr>\n",
       "  <th>income</th>      <td> 4.184e-06</td> <td> 9.41e-06</td> <td>    0.444</td> <td> 0.657</td> <td>-1.43e-05</td> <td> 2.26e-05</td>\n",
       "</tr>\n",
       "<tr>\n",
       "  <th>balance</th>     <td>    0.0059</td> <td>    0.000</td> <td>   21.617</td> <td> 0.000</td> <td>    0.005</td> <td>    0.006</td>\n",
       "</tr>\n",
       "<tr>\n",
       "  <th>student_Yes</th> <td>   -0.7133</td> <td>    0.273</td> <td>   -2.611</td> <td> 0.009</td> <td>   -1.249</td> <td>   -0.178</td>\n",
       "</tr>\n",
       "</table>"
      ],
      "text/latex": [
       "\\begin{center}\n",
       "\\begin{tabular}{lclc}\n",
       "\\toprule\n",
       "\\textbf{Dep. Variable:}   &        y         & \\textbf{  No. Observations:  } &     7500    \\\\\n",
       "\\textbf{Model:}           &       GLM        & \\textbf{  Df Residuals:      } &     7496    \\\\\n",
       "\\textbf{Model Family:}    &     Binomial     & \\textbf{  Df Model:          } &        3    \\\\\n",
       "\\textbf{Link Function:}   &      Logit       & \\textbf{  Scale:             } &    1.0000   \\\\\n",
       "\\textbf{Method:}          &       IRLS       & \\textbf{  Log-Likelihood:    } &   -581.57   \\\\\n",
       "\\textbf{Date:}            & Fri, 03 May 2024 & \\textbf{  Deviance:          } &    1163.1   \\\\\n",
       "\\textbf{Time:}            &     20:53:43     & \\textbf{  Pearson chi2:      } &  4.89e+03   \\\\\n",
       "\\textbf{No. Iterations:}  &        9         & \\textbf{  Pseudo R-squ. (CS):} &   0.1336    \\\\\n",
       "\\textbf{Covariance Type:} &    nonrobust     & \\textbf{                     } &             \\\\\n",
       "\\bottomrule\n",
       "\\end{tabular}\n",
       "\\begin{tabular}{lcccccc}\n",
       "                      & \\textbf{coef} & \\textbf{std err} & \\textbf{z} & \\textbf{P$> |$z$|$} & \\textbf{[0.025} & \\textbf{0.975]}  \\\\\n",
       "\\midrule\n",
       "\\textbf{const}        &     -11.1634  &        0.578     &   -19.317  &         0.000        &      -12.296    &      -10.031     \\\\\n",
       "\\textbf{income}       &    4.184e-06  &     9.41e-06     &     0.444  &         0.657        &    -1.43e-05    &     2.26e-05     \\\\\n",
       "\\textbf{balance}      &       0.0059  &        0.000     &    21.617  &         0.000        &        0.005    &        0.006     \\\\\n",
       "\\textbf{student\\_Yes} &      -0.7133  &        0.273     &    -2.611  &         0.009        &       -1.249    &       -0.178     \\\\\n",
       "\\bottomrule\n",
       "\\end{tabular}\n",
       "%\\caption{Generalized Linear Model Regression Results}\n",
       "\\end{center}"
      ],
      "text/plain": [
       "<class 'statsmodels.iolib.summary.Summary'>\n",
       "\"\"\"\n",
       "                 Generalized Linear Model Regression Results                  \n",
       "==============================================================================\n",
       "Dep. Variable:                      y   No. Observations:                 7500\n",
       "Model:                            GLM   Df Residuals:                     7496\n",
       "Model Family:                Binomial   Df Model:                            3\n",
       "Link Function:                  Logit   Scale:                          1.0000\n",
       "Method:                          IRLS   Log-Likelihood:                -581.57\n",
       "Date:                Fri, 03 May 2024   Deviance:                       1163.1\n",
       "Time:                        20:53:43   Pearson chi2:                 4.89e+03\n",
       "No. Iterations:                     9   Pseudo R-squ. (CS):             0.1336\n",
       "Covariance Type:            nonrobust                                         \n",
       "===============================================================================\n",
       "                  coef    std err          z      P>|z|      [0.025      0.975]\n",
       "-------------------------------------------------------------------------------\n",
       "const         -11.1634      0.578    -19.317      0.000     -12.296     -10.031\n",
       "income       4.184e-06   9.41e-06      0.444      0.657   -1.43e-05    2.26e-05\n",
       "balance         0.0059      0.000     21.617      0.000       0.005       0.006\n",
       "student_Yes    -0.7133      0.273     -2.611      0.009      -1.249      -0.178\n",
       "===============================================================================\n",
       "\"\"\""
      ]
     },
     "execution_count": 18,
     "metadata": {},
     "output_type": "execute_result"
    }
   ],
   "source": [
    "glm = sm.GLM(y3_train,X3_train,family=sm.families.Binomial())\n",
    "results = glm.fit()\n",
    "results.summary()"
   ]
  },
  {
   "cell_type": "code",
   "execution_count": 19,
   "id": "28860f99-32a2-41fd-99ad-3331502aab21",
   "metadata": {},
   "outputs": [
    {
     "data": {
      "text/html": [
       "<div>\n",
       "<style scoped>\n",
       "    .dataframe tbody tr th:only-of-type {\n",
       "        vertical-align: middle;\n",
       "    }\n",
       "\n",
       "    .dataframe tbody tr th {\n",
       "        vertical-align: top;\n",
       "    }\n",
       "\n",
       "    .dataframe thead th {\n",
       "        text-align: right;\n",
       "    }\n",
       "</style>\n",
       "<table border=\"1\" class=\"dataframe\">\n",
       "  <thead>\n",
       "    <tr style=\"text-align: right;\">\n",
       "      <th>Truth</th>\n",
       "      <th>No</th>\n",
       "      <th>Yes</th>\n",
       "    </tr>\n",
       "    <tr>\n",
       "      <th>Predicted</th>\n",
       "      <th></th>\n",
       "      <th></th>\n",
       "    </tr>\n",
       "  </thead>\n",
       "  <tbody>\n",
       "    <tr>\n",
       "      <th>No</th>\n",
       "      <td>2413</td>\n",
       "      <td>11</td>\n",
       "    </tr>\n",
       "    <tr>\n",
       "      <th>Yes</th>\n",
       "      <td>56</td>\n",
       "      <td>20</td>\n",
       "    </tr>\n",
       "  </tbody>\n",
       "</table>\n",
       "</div>"
      ],
      "text/plain": [
       "Truth        No  Yes\n",
       "Predicted           \n",
       "No         2413   11\n",
       "Yes          56   20"
      ]
     },
     "execution_count": 19,
     "metadata": {},
     "output_type": "execute_result"
    }
   ],
   "source": [
    "probs = results.predict(exog=X3_test)\n",
    "labels=[]\n",
    "for el in probs:\n",
    "    if el>0.5:\n",
    "        labels.append(\"Yes\")\n",
    "    else:\n",
    "        labels.append(\"No\")\n",
    "\n",
    "confusion_table(y_test, labels)"
   ]
  },
  {
   "cell_type": "code",
   "execution_count": 20,
   "id": "6dfde522-097a-40fb-bf84-6c84e66660e7",
   "metadata": {},
   "outputs": [
    {
     "data": {
      "text/plain": [
       "0.026800000000000046"
      ]
     },
     "execution_count": 20,
     "metadata": {},
     "output_type": "execute_result"
    }
   ],
   "source": [
    "1-np.mean(labels == y_test)"
   ]
  },
  {
   "cell_type": "code",
   "execution_count": 21,
   "id": "061edcc9-d15f-481d-830f-44c458cc0c6c",
   "metadata": {},
   "outputs": [],
   "source": [
    "models_results.loc[len(models_results)] = ['Logistic regression + 1 predictor (75.0%/25.0%)', 1-np.mean(labels == y_test)]"
   ]
  },
  {
   "cell_type": "code",
   "execution_count": 22,
   "id": "de27efe0-d890-4b04-9070-4a79bfb1fbcf",
   "metadata": {},
   "outputs": [
    {
     "data": {
      "text/html": [
       "<div>\n",
       "<style scoped>\n",
       "    .dataframe tbody tr th:only-of-type {\n",
       "        vertical-align: middle;\n",
       "    }\n",
       "\n",
       "    .dataframe tbody tr th {\n",
       "        vertical-align: top;\n",
       "    }\n",
       "\n",
       "    .dataframe thead th {\n",
       "        text-align: right;\n",
       "    }\n",
       "</style>\n",
       "<table border=\"1\" class=\"dataframe\">\n",
       "  <thead>\n",
       "    <tr style=\"text-align: right;\">\n",
       "      <th></th>\n",
       "      <th>Model</th>\n",
       "      <th>Test_error</th>\n",
       "    </tr>\n",
       "  </thead>\n",
       "  <tbody>\n",
       "    <tr>\n",
       "      <th>0</th>\n",
       "      <td>Logistic regression (75.0%/25.0%)</td>\n",
       "      <td>0.0260</td>\n",
       "    </tr>\n",
       "    <tr>\n",
       "      <th>1</th>\n",
       "      <td>Logistic regression (90.0%/10.0%)</td>\n",
       "      <td>0.0280</td>\n",
       "    </tr>\n",
       "    <tr>\n",
       "      <th>2</th>\n",
       "      <td>Logistic regression (70.0%/30.0%)</td>\n",
       "      <td>0.0270</td>\n",
       "    </tr>\n",
       "    <tr>\n",
       "      <th>3</th>\n",
       "      <td>Logistic regression (60.0%/40.0%)</td>\n",
       "      <td>0.0275</td>\n",
       "    </tr>\n",
       "    <tr>\n",
       "      <th>4</th>\n",
       "      <td>Logistic regression + 1 predictor (75.0%/25.0%)</td>\n",
       "      <td>0.0268</td>\n",
       "    </tr>\n",
       "  </tbody>\n",
       "</table>\n",
       "</div>"
      ],
      "text/plain": [
       "                                             Model  Test_error\n",
       "0                Logistic regression (75.0%/25.0%)      0.0260\n",
       "1                Logistic regression (90.0%/10.0%)      0.0280\n",
       "2                Logistic regression (70.0%/30.0%)      0.0270\n",
       "3                Logistic regression (60.0%/40.0%)      0.0275\n",
       "4  Logistic regression + 1 predictor (75.0%/25.0%)      0.0268"
      ]
     },
     "execution_count": 22,
     "metadata": {},
     "output_type": "execute_result"
    }
   ],
   "source": [
    "models_results"
   ]
  },
  {
   "cell_type": "markdown",
   "id": "7f5fb00c-cb89-4dec-9ef3-46e8dd86aefc",
   "metadata": {},
   "source": [
    "**[ANSWER] Adding `student` predictor increased test error**"
   ]
  },
  {
   "cell_type": "markdown",
   "id": "da52b653-09b7-4ea6-8973-c1ecde0af22c",
   "metadata": {},
   "source": [
    "___"
   ]
  },
  {
   "cell_type": "markdown",
   "id": "9ac0baec-451f-4fa0-babf-b89f065d01e3",
   "metadata": {},
   "source": [
    "### 6."
   ]
  },
  {
   "cell_type": "markdown",
   "id": "f3deedf6-699a-4251-9813-aca887a53b26",
   "metadata": {},
   "source": [
    "#### (a)"
   ]
  },
  {
   "cell_type": "code",
   "execution_count": 23,
   "id": "0deb264b-d204-4693-b068-db54d24a1c69",
   "metadata": {},
   "outputs": [
    {
     "data": {
      "text/html": [
       "<table class=\"simpletable\">\n",
       "<caption>Generalized Linear Model Regression Results</caption>\n",
       "<tr>\n",
       "  <th>Dep. Variable:</th>        <td>default</td>     <th>  No. Observations:  </th>  <td> 10000</td> \n",
       "</tr>\n",
       "<tr>\n",
       "  <th>Model:</th>                  <td>GLM</td>       <th>  Df Residuals:      </th>  <td>  9997</td> \n",
       "</tr>\n",
       "<tr>\n",
       "  <th>Model Family:</th>        <td>Binomial</td>     <th>  Df Model:          </th>  <td>     2</td> \n",
       "</tr>\n",
       "<tr>\n",
       "  <th>Link Function:</th>         <td>Logit</td>      <th>  Scale:             </th> <td>  1.0000</td>\n",
       "</tr>\n",
       "<tr>\n",
       "  <th>Method:</th>                <td>IRLS</td>       <th>  Log-Likelihood:    </th> <td> -789.48</td>\n",
       "</tr>\n",
       "<tr>\n",
       "  <th>Date:</th>            <td>Fri, 03 May 2024</td> <th>  Deviance:          </th> <td>  1579.0</td>\n",
       "</tr>\n",
       "<tr>\n",
       "  <th>Time:</th>                <td>20:53:43</td>     <th>  Pearson chi2:      </th> <td>6.95e+03</td>\n",
       "</tr>\n",
       "<tr>\n",
       "  <th>No. Iterations:</th>          <td>9</td>        <th>  Pseudo R-squ. (CS):</th>  <td>0.1256</td> \n",
       "</tr>\n",
       "<tr>\n",
       "  <th>Covariance Type:</th>     <td>nonrobust</td>    <th>                     </th>     <td> </td>   \n",
       "</tr>\n",
       "</table>\n",
       "<table class=\"simpletable\">\n",
       "<tr>\n",
       "     <td></td>        <th>coef</th>     <th>std err</th>      <th>z</th>      <th>P>|z|</th>  <th>[0.025</th>    <th>0.975]</th>  \n",
       "</tr>\n",
       "<tr>\n",
       "  <th>const</th>   <td>  -11.5405</td> <td>    0.435</td> <td>  -26.544</td> <td> 0.000</td> <td>  -12.393</td> <td>  -10.688</td>\n",
       "</tr>\n",
       "<tr>\n",
       "  <th>income</th>  <td> 2.081e-05</td> <td> 4.99e-06</td> <td>    4.174</td> <td> 0.000</td> <td>  1.1e-05</td> <td> 3.06e-05</td>\n",
       "</tr>\n",
       "<tr>\n",
       "  <th>balance</th> <td>    0.0056</td> <td>    0.000</td> <td>   24.835</td> <td> 0.000</td> <td>    0.005</td> <td>    0.006</td>\n",
       "</tr>\n",
       "</table>"
      ],
      "text/latex": [
       "\\begin{center}\n",
       "\\begin{tabular}{lclc}\n",
       "\\toprule\n",
       "\\textbf{Dep. Variable:}   &     default      & \\textbf{  No. Observations:  } &    10000    \\\\\n",
       "\\textbf{Model:}           &       GLM        & \\textbf{  Df Residuals:      } &     9997    \\\\\n",
       "\\textbf{Model Family:}    &     Binomial     & \\textbf{  Df Model:          } &        2    \\\\\n",
       "\\textbf{Link Function:}   &      Logit       & \\textbf{  Scale:             } &    1.0000   \\\\\n",
       "\\textbf{Method:}          &       IRLS       & \\textbf{  Log-Likelihood:    } &   -789.48   \\\\\n",
       "\\textbf{Date:}            & Fri, 03 May 2024 & \\textbf{  Deviance:          } &    1579.0   \\\\\n",
       "\\textbf{Time:}            &     20:53:43     & \\textbf{  Pearson chi2:      } &  6.95e+03   \\\\\n",
       "\\textbf{No. Iterations:}  &        9         & \\textbf{  Pseudo R-squ. (CS):} &   0.1256    \\\\\n",
       "\\textbf{Covariance Type:} &    nonrobust     & \\textbf{                     } &             \\\\\n",
       "\\bottomrule\n",
       "\\end{tabular}\n",
       "\\begin{tabular}{lcccccc}\n",
       "                 & \\textbf{coef} & \\textbf{std err} & \\textbf{z} & \\textbf{P$> |$z$|$} & \\textbf{[0.025} & \\textbf{0.975]}  \\\\\n",
       "\\midrule\n",
       "\\textbf{const}   &     -11.5405  &        0.435     &   -26.544  &         0.000        &      -12.393    &      -10.688     \\\\\n",
       "\\textbf{income}  &    2.081e-05  &     4.99e-06     &     4.174  &         0.000        &      1.1e-05    &     3.06e-05     \\\\\n",
       "\\textbf{balance} &       0.0056  &        0.000     &    24.835  &         0.000        &        0.005    &        0.006     \\\\\n",
       "\\bottomrule\n",
       "\\end{tabular}\n",
       "%\\caption{Generalized Linear Model Regression Results}\n",
       "\\end{center}"
      ],
      "text/plain": [
       "<class 'statsmodels.iolib.summary.Summary'>\n",
       "\"\"\"\n",
       "                 Generalized Linear Model Regression Results                  \n",
       "==============================================================================\n",
       "Dep. Variable:                default   No. Observations:                10000\n",
       "Model:                            GLM   Df Residuals:                     9997\n",
       "Model Family:                Binomial   Df Model:                            2\n",
       "Link Function:                  Logit   Scale:                          1.0000\n",
       "Method:                          IRLS   Log-Likelihood:                -789.48\n",
       "Date:                Fri, 03 May 2024   Deviance:                       1579.0\n",
       "Time:                        20:53:43   Pearson chi2:                 6.95e+03\n",
       "No. Iterations:                     9   Pseudo R-squ. (CS):             0.1256\n",
       "Covariance Type:            nonrobust                                         \n",
       "==============================================================================\n",
       "                 coef    std err          z      P>|z|      [0.025      0.975]\n",
       "------------------------------------------------------------------------------\n",
       "const        -11.5405      0.435    -26.544      0.000     -12.393     -10.688\n",
       "income      2.081e-05   4.99e-06      4.174      0.000     1.1e-05    3.06e-05\n",
       "balance        0.0056      0.000     24.835      0.000       0.005       0.006\n",
       "==============================================================================\n",
       "\"\"\""
      ]
     },
     "execution_count": 23,
     "metadata": {},
     "output_type": "execute_result"
    }
   ],
   "source": [
    "X_train, X_test, y_train, y_test = train_test_split(credit_default , credit_default['default'], test_size = 0.25, random_state = 100)\n",
    "X0=credit_default[['income','balance']]\n",
    "X0=sm.add_constant(X0)\n",
    "y0=credit_default.default== 'Yes'\n",
    "glm = sm.GLM(y0,X0,family=sm.families.Binomial())\n",
    "results = glm.fit()\n",
    "results.summary()"
   ]
  },
  {
   "cell_type": "code",
   "execution_count": 24,
   "id": "71e5d6c7-b2b4-474b-813c-1957b75acd1d",
   "metadata": {},
   "outputs": [],
   "source": [
    "models_std_errors=pd.DataFrame()\n",
    "models_std_errors['Model']=None\n",
    "models_std_errors['Test_error_income']=None\n",
    "models_std_errors['Test_error_balance']=None\n",
    "models_std_errors.loc[len(models_std_errors)] = ['Logistic regression',results.bse[1],results.bse[1] ]\n",
    "pd.set_option('max_colwidth', 400)"
   ]
  },
  {
   "cell_type": "markdown",
   "id": "acfcad48-34cc-4bff-8b36-e5d3e1fe8e9f",
   "metadata": {},
   "source": [
    "#### (b) + (c)"
   ]
  },
  {
   "cell_type": "code",
   "execution_count": 25,
   "id": "72aa570c-2739-408d-be46-5e34c8cd7925",
   "metadata": {},
   "outputs": [
    {
     "data": {
      "text/html": [
       "<div>\n",
       "<style scoped>\n",
       "    .dataframe tbody tr th:only-of-type {\n",
       "        vertical-align: middle;\n",
       "    }\n",
       "\n",
       "    .dataframe tbody tr th {\n",
       "        vertical-align: top;\n",
       "    }\n",
       "\n",
       "    .dataframe thead th {\n",
       "        text-align: right;\n",
       "    }\n",
       "</style>\n",
       "<table border=\"1\" class=\"dataframe\">\n",
       "  <thead>\n",
       "    <tr style=\"text-align: right;\">\n",
       "      <th></th>\n",
       "      <th>default</th>\n",
       "      <th>balance</th>\n",
       "      <th>income</th>\n",
       "      <th>student_Yes</th>\n",
       "    </tr>\n",
       "  </thead>\n",
       "  <tbody>\n",
       "    <tr>\n",
       "      <th>0</th>\n",
       "      <td>No</td>\n",
       "      <td>729.526495</td>\n",
       "      <td>44361.625074</td>\n",
       "      <td>0</td>\n",
       "    </tr>\n",
       "    <tr>\n",
       "      <th>1</th>\n",
       "      <td>No</td>\n",
       "      <td>817.180407</td>\n",
       "      <td>12106.134700</td>\n",
       "      <td>1</td>\n",
       "    </tr>\n",
       "    <tr>\n",
       "      <th>2</th>\n",
       "      <td>No</td>\n",
       "      <td>1073.549164</td>\n",
       "      <td>31767.138947</td>\n",
       "      <td>0</td>\n",
       "    </tr>\n",
       "    <tr>\n",
       "      <th>3</th>\n",
       "      <td>No</td>\n",
       "      <td>529.250605</td>\n",
       "      <td>35704.493935</td>\n",
       "      <td>0</td>\n",
       "    </tr>\n",
       "    <tr>\n",
       "      <th>4</th>\n",
       "      <td>No</td>\n",
       "      <td>785.655883</td>\n",
       "      <td>38463.495879</td>\n",
       "      <td>0</td>\n",
       "    </tr>\n",
       "    <tr>\n",
       "      <th>...</th>\n",
       "      <td>...</td>\n",
       "      <td>...</td>\n",
       "      <td>...</td>\n",
       "      <td>...</td>\n",
       "    </tr>\n",
       "    <tr>\n",
       "      <th>9995</th>\n",
       "      <td>No</td>\n",
       "      <td>711.555020</td>\n",
       "      <td>52992.378914</td>\n",
       "      <td>0</td>\n",
       "    </tr>\n",
       "    <tr>\n",
       "      <th>9996</th>\n",
       "      <td>No</td>\n",
       "      <td>757.962918</td>\n",
       "      <td>19660.721768</td>\n",
       "      <td>0</td>\n",
       "    </tr>\n",
       "    <tr>\n",
       "      <th>9997</th>\n",
       "      <td>No</td>\n",
       "      <td>845.411989</td>\n",
       "      <td>58636.156984</td>\n",
       "      <td>0</td>\n",
       "    </tr>\n",
       "    <tr>\n",
       "      <th>9998</th>\n",
       "      <td>No</td>\n",
       "      <td>1569.009053</td>\n",
       "      <td>36669.112365</td>\n",
       "      <td>0</td>\n",
       "    </tr>\n",
       "    <tr>\n",
       "      <th>9999</th>\n",
       "      <td>No</td>\n",
       "      <td>200.922183</td>\n",
       "      <td>16862.952321</td>\n",
       "      <td>1</td>\n",
       "    </tr>\n",
       "  </tbody>\n",
       "</table>\n",
       "<p>10000 rows × 4 columns</p>\n",
       "</div>"
      ],
      "text/plain": [
       "     default      balance        income  student_Yes\n",
       "0         No   729.526495  44361.625074            0\n",
       "1         No   817.180407  12106.134700            1\n",
       "2         No  1073.549164  31767.138947            0\n",
       "3         No   529.250605  35704.493935            0\n",
       "4         No   785.655883  38463.495879            0\n",
       "...      ...          ...           ...          ...\n",
       "9995      No   711.555020  52992.378914            0\n",
       "9996      No   757.962918  19660.721768            0\n",
       "9997      No   845.411989  58636.156984            0\n",
       "9998      No  1569.009053  36669.112365            0\n",
       "9999      No   200.922183  16862.952321            1\n",
       "\n",
       "[10000 rows x 4 columns]"
      ]
     },
     "execution_count": 25,
     "metadata": {},
     "output_type": "execute_result"
    }
   ],
   "source": [
    "credit_default.reset_index(inplace=True, drop=True)\n",
    "credit_default"
   ]
  },
  {
   "cell_type": "code",
   "execution_count": 26,
   "id": "5c0b78d5-10c3-46f0-9af8-8b368193a0d4",
   "metadata": {},
   "outputs": [],
   "source": [
    "def boot_logit(D, idx):\n",
    "    D_ = D.loc[idx]\n",
    "    Y_ = D_.default== 'Yes'\n",
    "    X_ = D_[['income','balance']]\n",
    "    X_=sm.add_constant(X_)\n",
    "    return sm.GLM(Y_,X_,family=sm.families.Binomial()).fit().params"
   ]
  },
  {
   "cell_type": "code",
   "execution_count": 27,
   "id": "649f1a7c-8296-4746-ab78-19cff82bb3e0",
   "metadata": {},
   "outputs": [],
   "source": [
    "def boot_fn(func, D, n=None, B=1000, seed=0):\n",
    "    rng = np.random.default_rng(seed)\n",
    "    first_, second_ = 0, 0\n",
    "    n = n or D.shape[0]\n",
    "    for _ in range(B):\n",
    "        idx = rng.choice(D.index,\n",
    "                         n,\n",
    "                         replace=True)\n",
    "        value = func(D, idx)\n",
    "        first_ += value\n",
    "        second_ += value**2\n",
    "    #return np.sqrt(second_ / B - (first_ / B)**2)\n",
    "    res=np.sqrt(second_ / B - (first_ / B)**2)\n",
    "    models_std_errors.loc[len(models_std_errors)] = ['Logistic regression with bootstrap',res[1],res[2] ]"
   ]
  },
  {
   "cell_type": "code",
   "execution_count": 28,
   "id": "f758b21a-9e26-47b4-bc22-91bd8a82e1a6",
   "metadata": {},
   "outputs": [],
   "source": [
    "boot_fn(boot_logit, credit_default, B=1000, seed=0)"
   ]
  },
  {
   "cell_type": "markdown",
   "id": "5ce501d6-8eb1-405f-a89c-46d2974c1520",
   "metadata": {},
   "source": [
    "#### (d)"
   ]
  },
  {
   "cell_type": "code",
   "execution_count": 29,
   "id": "6fc603cd-174a-4813-b824-5afda95e3876",
   "metadata": {},
   "outputs": [
    {
     "data": {
      "text/html": [
       "<div>\n",
       "<style scoped>\n",
       "    .dataframe tbody tr th:only-of-type {\n",
       "        vertical-align: middle;\n",
       "    }\n",
       "\n",
       "    .dataframe tbody tr th {\n",
       "        vertical-align: top;\n",
       "    }\n",
       "\n",
       "    .dataframe thead th {\n",
       "        text-align: right;\n",
       "    }\n",
       "</style>\n",
       "<table border=\"1\" class=\"dataframe\">\n",
       "  <thead>\n",
       "    <tr style=\"text-align: right;\">\n",
       "      <th></th>\n",
       "      <th>Model</th>\n",
       "      <th>Test_error_income</th>\n",
       "      <th>Test_error_balance</th>\n",
       "    </tr>\n",
       "  </thead>\n",
       "  <tbody>\n",
       "    <tr>\n",
       "      <th>0</th>\n",
       "      <td>Logistic regression</td>\n",
       "      <td>0.000005</td>\n",
       "      <td>0.000005</td>\n",
       "    </tr>\n",
       "    <tr>\n",
       "      <th>1</th>\n",
       "      <td>Logistic regression with bootstrap</td>\n",
       "      <td>0.000005</td>\n",
       "      <td>0.000230</td>\n",
       "    </tr>\n",
       "  </tbody>\n",
       "</table>\n",
       "</div>"
      ],
      "text/plain": [
       "                                Model  Test_error_income  Test_error_balance\n",
       "0                 Logistic regression           0.000005            0.000005\n",
       "1  Logistic regression with bootstrap           0.000005            0.000230"
      ]
     },
     "execution_count": 29,
     "metadata": {},
     "output_type": "execute_result"
    }
   ],
   "source": [
    "models_std_errors"
   ]
  },
  {
   "cell_type": "markdown",
   "id": "1ec58a3a-eee1-4431-b051-0b366e3260a0",
   "metadata": {},
   "source": [
    "**[ANSWER] Bootstrap standard errors are higher than `sm.GLM`**"
   ]
  },
  {
   "cell_type": "markdown",
   "id": "1c36e791-dbbe-45de-a8ed-d472c09d1c4c",
   "metadata": {},
   "source": [
    "___"
   ]
  },
  {
   "cell_type": "markdown",
   "id": "73542020-85f9-4869-9309-7dbb0277dd84",
   "metadata": {},
   "source": [
    "### 7."
   ]
  },
  {
   "cell_type": "code",
   "execution_count": 30,
   "id": "40e2244d-bcac-44bd-8305-6f5dd31992bf",
   "metadata": {},
   "outputs": [
    {
     "data": {
      "text/html": [
       "<div>\n",
       "<style scoped>\n",
       "    .dataframe tbody tr th:only-of-type {\n",
       "        vertical-align: middle;\n",
       "    }\n",
       "\n",
       "    .dataframe tbody tr th {\n",
       "        vertical-align: top;\n",
       "    }\n",
       "\n",
       "    .dataframe thead th {\n",
       "        text-align: right;\n",
       "    }\n",
       "</style>\n",
       "<table border=\"1\" class=\"dataframe\">\n",
       "  <thead>\n",
       "    <tr style=\"text-align: right;\">\n",
       "      <th></th>\n",
       "      <th>Year</th>\n",
       "      <th>Lag1</th>\n",
       "      <th>Lag2</th>\n",
       "      <th>Lag3</th>\n",
       "      <th>Lag4</th>\n",
       "      <th>Lag5</th>\n",
       "      <th>Volume</th>\n",
       "      <th>Today</th>\n",
       "      <th>Direction</th>\n",
       "    </tr>\n",
       "  </thead>\n",
       "  <tbody>\n",
       "    <tr>\n",
       "      <th>0</th>\n",
       "      <td>1990</td>\n",
       "      <td>0.816</td>\n",
       "      <td>1.572</td>\n",
       "      <td>-3.936</td>\n",
       "      <td>-0.229</td>\n",
       "      <td>-3.484</td>\n",
       "      <td>0.154976</td>\n",
       "      <td>-0.270</td>\n",
       "      <td>Down</td>\n",
       "    </tr>\n",
       "    <tr>\n",
       "      <th>1</th>\n",
       "      <td>1990</td>\n",
       "      <td>-0.270</td>\n",
       "      <td>0.816</td>\n",
       "      <td>1.572</td>\n",
       "      <td>-3.936</td>\n",
       "      <td>-0.229</td>\n",
       "      <td>0.148574</td>\n",
       "      <td>-2.576</td>\n",
       "      <td>Down</td>\n",
       "    </tr>\n",
       "    <tr>\n",
       "      <th>2</th>\n",
       "      <td>1990</td>\n",
       "      <td>-2.576</td>\n",
       "      <td>-0.270</td>\n",
       "      <td>0.816</td>\n",
       "      <td>1.572</td>\n",
       "      <td>-3.936</td>\n",
       "      <td>0.159837</td>\n",
       "      <td>3.514</td>\n",
       "      <td>Up</td>\n",
       "    </tr>\n",
       "    <tr>\n",
       "      <th>3</th>\n",
       "      <td>1990</td>\n",
       "      <td>3.514</td>\n",
       "      <td>-2.576</td>\n",
       "      <td>-0.270</td>\n",
       "      <td>0.816</td>\n",
       "      <td>1.572</td>\n",
       "      <td>0.161630</td>\n",
       "      <td>0.712</td>\n",
       "      <td>Up</td>\n",
       "    </tr>\n",
       "    <tr>\n",
       "      <th>4</th>\n",
       "      <td>1990</td>\n",
       "      <td>0.712</td>\n",
       "      <td>3.514</td>\n",
       "      <td>-2.576</td>\n",
       "      <td>-0.270</td>\n",
       "      <td>0.816</td>\n",
       "      <td>0.153728</td>\n",
       "      <td>1.178</td>\n",
       "      <td>Up</td>\n",
       "    </tr>\n",
       "  </tbody>\n",
       "</table>\n",
       "</div>"
      ],
      "text/plain": [
       "   Year   Lag1   Lag2   Lag3   Lag4   Lag5    Volume  Today Direction\n",
       "0  1990  0.816  1.572 -3.936 -0.229 -3.484  0.154976 -0.270      Down\n",
       "1  1990 -0.270  0.816  1.572 -3.936 -0.229  0.148574 -2.576      Down\n",
       "2  1990 -2.576 -0.270  0.816  1.572 -3.936  0.159837  3.514        Up\n",
       "3  1990  3.514 -2.576 -0.270  0.816  1.572  0.161630  0.712        Up\n",
       "4  1990  0.712  3.514 -2.576 -0.270  0.816  0.153728  1.178        Up"
      ]
     },
     "execution_count": 30,
     "metadata": {},
     "output_type": "execute_result"
    }
   ],
   "source": [
    "weekly = load_data('Weekly')\n",
    "weekly.head(5)"
   ]
  },
  {
   "cell_type": "markdown",
   "id": "427a9c4e-1f8b-4cd3-b6b7-07c01e9bfd5e",
   "metadata": {},
   "source": [
    "#### (a)"
   ]
  },
  {
   "cell_type": "code",
   "execution_count": 31,
   "id": "177a0606-8a94-46d3-bc1d-9f52c704b49a",
   "metadata": {},
   "outputs": [
    {
     "data": {
      "text/html": [
       "<table class=\"simpletable\">\n",
       "<caption>Generalized Linear Model Regression Results</caption>\n",
       "<tr>\n",
       "  <th>Dep. Variable:</th>       <td>Direction</td>    <th>  No. Observations:  </th>  <td>  1089</td> \n",
       "</tr>\n",
       "<tr>\n",
       "  <th>Model:</th>                  <td>GLM</td>       <th>  Df Residuals:      </th>  <td>  1086</td> \n",
       "</tr>\n",
       "<tr>\n",
       "  <th>Model Family:</th>        <td>Binomial</td>     <th>  Df Model:          </th>  <td>     2</td> \n",
       "</tr>\n",
       "<tr>\n",
       "  <th>Link Function:</th>         <td>Logit</td>      <th>  Scale:             </th> <td>  1.0000</td>\n",
       "</tr>\n",
       "<tr>\n",
       "  <th>Method:</th>                <td>IRLS</td>       <th>  Log-Likelihood:    </th> <td> -744.11</td>\n",
       "</tr>\n",
       "<tr>\n",
       "  <th>Date:</th>            <td>Fri, 03 May 2024</td> <th>  Deviance:          </th> <td>  1488.2</td>\n",
       "</tr>\n",
       "<tr>\n",
       "  <th>Time:</th>                <td>20:54:16</td>     <th>  Pearson chi2:      </th> <td>1.09e+03</td>\n",
       "</tr>\n",
       "<tr>\n",
       "  <th>No. Iterations:</th>          <td>4</td>        <th>  Pseudo R-squ. (CS):</th> <td>0.007303</td>\n",
       "</tr>\n",
       "<tr>\n",
       "  <th>Covariance Type:</th>     <td>nonrobust</td>    <th>                     </th>     <td> </td>   \n",
       "</tr>\n",
       "</table>\n",
       "<table class=\"simpletable\">\n",
       "<tr>\n",
       "    <td></td>       <th>coef</th>     <th>std err</th>      <th>z</th>      <th>P>|z|</th>  <th>[0.025</th>    <th>0.975]</th>  \n",
       "</tr>\n",
       "<tr>\n",
       "  <th>const</th> <td>    0.2212</td> <td>    0.061</td> <td>    3.599</td> <td> 0.000</td> <td>    0.101</td> <td>    0.342</td>\n",
       "</tr>\n",
       "<tr>\n",
       "  <th>Lag1</th>  <td>   -0.0387</td> <td>    0.026</td> <td>   -1.477</td> <td> 0.140</td> <td>   -0.090</td> <td>    0.013</td>\n",
       "</tr>\n",
       "<tr>\n",
       "  <th>Lag2</th>  <td>    0.0602</td> <td>    0.027</td> <td>    2.270</td> <td> 0.023</td> <td>    0.008</td> <td>    0.112</td>\n",
       "</tr>\n",
       "</table>"
      ],
      "text/latex": [
       "\\begin{center}\n",
       "\\begin{tabular}{lclc}\n",
       "\\toprule\n",
       "\\textbf{Dep. Variable:}   &    Direction     & \\textbf{  No. Observations:  } &     1089    \\\\\n",
       "\\textbf{Model:}           &       GLM        & \\textbf{  Df Residuals:      } &     1086    \\\\\n",
       "\\textbf{Model Family:}    &     Binomial     & \\textbf{  Df Model:          } &        2    \\\\\n",
       "\\textbf{Link Function:}   &      Logit       & \\textbf{  Scale:             } &    1.0000   \\\\\n",
       "\\textbf{Method:}          &       IRLS       & \\textbf{  Log-Likelihood:    } &   -744.11   \\\\\n",
       "\\textbf{Date:}            & Fri, 03 May 2024 & \\textbf{  Deviance:          } &    1488.2   \\\\\n",
       "\\textbf{Time:}            &     20:54:16     & \\textbf{  Pearson chi2:      } &  1.09e+03   \\\\\n",
       "\\textbf{No. Iterations:}  &        4         & \\textbf{  Pseudo R-squ. (CS):} &  0.007303   \\\\\n",
       "\\textbf{Covariance Type:} &    nonrobust     & \\textbf{                     } &             \\\\\n",
       "\\bottomrule\n",
       "\\end{tabular}\n",
       "\\begin{tabular}{lcccccc}\n",
       "               & \\textbf{coef} & \\textbf{std err} & \\textbf{z} & \\textbf{P$> |$z$|$} & \\textbf{[0.025} & \\textbf{0.975]}  \\\\\n",
       "\\midrule\n",
       "\\textbf{const} &       0.2212  &        0.061     &     3.599  &         0.000        &        0.101    &        0.342     \\\\\n",
       "\\textbf{Lag1}  &      -0.0387  &        0.026     &    -1.477  &         0.140        &       -0.090    &        0.013     \\\\\n",
       "\\textbf{Lag2}  &       0.0602  &        0.027     &     2.270  &         0.023        &        0.008    &        0.112     \\\\\n",
       "\\bottomrule\n",
       "\\end{tabular}\n",
       "%\\caption{Generalized Linear Model Regression Results}\n",
       "\\end{center}"
      ],
      "text/plain": [
       "<class 'statsmodels.iolib.summary.Summary'>\n",
       "\"\"\"\n",
       "                 Generalized Linear Model Regression Results                  \n",
       "==============================================================================\n",
       "Dep. Variable:              Direction   No. Observations:                 1089\n",
       "Model:                            GLM   Df Residuals:                     1086\n",
       "Model Family:                Binomial   Df Model:                            2\n",
       "Link Function:                  Logit   Scale:                          1.0000\n",
       "Method:                          IRLS   Log-Likelihood:                -744.11\n",
       "Date:                Fri, 03 May 2024   Deviance:                       1488.2\n",
       "Time:                        20:54:16   Pearson chi2:                 1.09e+03\n",
       "No. Iterations:                     4   Pseudo R-squ. (CS):           0.007303\n",
       "Covariance Type:            nonrobust                                         \n",
       "==============================================================================\n",
       "                 coef    std err          z      P>|z|      [0.025      0.975]\n",
       "------------------------------------------------------------------------------\n",
       "const          0.2212      0.061      3.599      0.000       0.101       0.342\n",
       "Lag1          -0.0387      0.026     -1.477      0.140      -0.090       0.013\n",
       "Lag2           0.0602      0.027      2.270      0.023       0.008       0.112\n",
       "==============================================================================\n",
       "\"\"\""
      ]
     },
     "execution_count": 31,
     "metadata": {},
     "output_type": "execute_result"
    }
   ],
   "source": [
    "X=weekly[['Lag1','Lag2']]\n",
    "X=sm.add_constant(X)\n",
    "y = weekly.Direction == 'Up'\n",
    "glm = sm.GLM(y,X,family=sm.families.Binomial())\n",
    "results = glm.fit()\n",
    "results.summary()"
   ]
  },
  {
   "cell_type": "markdown",
   "id": "f395e950-9a19-47c7-9db5-1a8df2aa97f8",
   "metadata": {},
   "source": [
    "#### (b)"
   ]
  },
  {
   "cell_type": "code",
   "execution_count": 32,
   "id": "0bb3f44b-77e4-48a9-acaf-f1f733f18a6a",
   "metadata": {},
   "outputs": [],
   "source": [
    "X1 = weekly.loc[weekly.index != 0, [\"Lag1\", \"Lag2\"]]\n",
    "X1=sm.add_constant(X1)\n",
    "y1 = weekly.Direction == 'Up'\n",
    "y1 = y1.loc[weekly.index != 0]"
   ]
  },
  {
   "cell_type": "code",
   "execution_count": 33,
   "id": "a6b2fa6d-9736-4558-a269-e970590c1dec",
   "metadata": {},
   "outputs": [
    {
     "data": {
      "text/html": [
       "<table class=\"simpletable\">\n",
       "<caption>Generalized Linear Model Regression Results</caption>\n",
       "<tr>\n",
       "  <th>Dep. Variable:</th>       <td>Direction</td>    <th>  No. Observations:  </th>  <td>  1088</td> \n",
       "</tr>\n",
       "<tr>\n",
       "  <th>Model:</th>                  <td>GLM</td>       <th>  Df Residuals:      </th>  <td>  1085</td> \n",
       "</tr>\n",
       "<tr>\n",
       "  <th>Model Family:</th>        <td>Binomial</td>     <th>  Df Model:          </th>  <td>     2</td> \n",
       "</tr>\n",
       "<tr>\n",
       "  <th>Link Function:</th>         <td>Logit</td>      <th>  Scale:             </th> <td>  1.0000</td>\n",
       "</tr>\n",
       "<tr>\n",
       "  <th>Method:</th>                <td>IRLS</td>       <th>  Log-Likelihood:    </th> <td> -743.26</td>\n",
       "</tr>\n",
       "<tr>\n",
       "  <th>Date:</th>            <td>Fri, 03 May 2024</td> <th>  Deviance:          </th> <td>  1486.5</td>\n",
       "</tr>\n",
       "<tr>\n",
       "  <th>Time:</th>                <td>20:54:16</td>     <th>  Pearson chi2:      </th> <td>1.09e+03</td>\n",
       "</tr>\n",
       "<tr>\n",
       "  <th>No. Iterations:</th>          <td>4</td>        <th>  Pseudo R-squ. (CS):</th> <td>0.007373</td>\n",
       "</tr>\n",
       "<tr>\n",
       "  <th>Covariance Type:</th>     <td>nonrobust</td>    <th>                     </th>     <td> </td>   \n",
       "</tr>\n",
       "</table>\n",
       "<table class=\"simpletable\">\n",
       "<tr>\n",
       "    <td></td>       <th>coef</th>     <th>std err</th>      <th>z</th>      <th>P>|z|</th>  <th>[0.025</th>    <th>0.975]</th>  \n",
       "</tr>\n",
       "<tr>\n",
       "  <th>const</th> <td>    0.2232</td> <td>    0.061</td> <td>    3.630</td> <td> 0.000</td> <td>    0.103</td> <td>    0.344</td>\n",
       "</tr>\n",
       "<tr>\n",
       "  <th>Lag1</th>  <td>   -0.0384</td> <td>    0.026</td> <td>   -1.466</td> <td> 0.143</td> <td>   -0.090</td> <td>    0.013</td>\n",
       "</tr>\n",
       "<tr>\n",
       "  <th>Lag2</th>  <td>    0.0608</td> <td>    0.027</td> <td>    2.291</td> <td> 0.022</td> <td>    0.009</td> <td>    0.113</td>\n",
       "</tr>\n",
       "</table>"
      ],
      "text/latex": [
       "\\begin{center}\n",
       "\\begin{tabular}{lclc}\n",
       "\\toprule\n",
       "\\textbf{Dep. Variable:}   &    Direction     & \\textbf{  No. Observations:  } &     1088    \\\\\n",
       "\\textbf{Model:}           &       GLM        & \\textbf{  Df Residuals:      } &     1085    \\\\\n",
       "\\textbf{Model Family:}    &     Binomial     & \\textbf{  Df Model:          } &        2    \\\\\n",
       "\\textbf{Link Function:}   &      Logit       & \\textbf{  Scale:             } &    1.0000   \\\\\n",
       "\\textbf{Method:}          &       IRLS       & \\textbf{  Log-Likelihood:    } &   -743.26   \\\\\n",
       "\\textbf{Date:}            & Fri, 03 May 2024 & \\textbf{  Deviance:          } &    1486.5   \\\\\n",
       "\\textbf{Time:}            &     20:54:16     & \\textbf{  Pearson chi2:      } &  1.09e+03   \\\\\n",
       "\\textbf{No. Iterations:}  &        4         & \\textbf{  Pseudo R-squ. (CS):} &  0.007373   \\\\\n",
       "\\textbf{Covariance Type:} &    nonrobust     & \\textbf{                     } &             \\\\\n",
       "\\bottomrule\n",
       "\\end{tabular}\n",
       "\\begin{tabular}{lcccccc}\n",
       "               & \\textbf{coef} & \\textbf{std err} & \\textbf{z} & \\textbf{P$> |$z$|$} & \\textbf{[0.025} & \\textbf{0.975]}  \\\\\n",
       "\\midrule\n",
       "\\textbf{const} &       0.2232  &        0.061     &     3.630  &         0.000        &        0.103    &        0.344     \\\\\n",
       "\\textbf{Lag1}  &      -0.0384  &        0.026     &    -1.466  &         0.143        &       -0.090    &        0.013     \\\\\n",
       "\\textbf{Lag2}  &       0.0608  &        0.027     &     2.291  &         0.022        &        0.009    &        0.113     \\\\\n",
       "\\bottomrule\n",
       "\\end{tabular}\n",
       "%\\caption{Generalized Linear Model Regression Results}\n",
       "\\end{center}"
      ],
      "text/plain": [
       "<class 'statsmodels.iolib.summary.Summary'>\n",
       "\"\"\"\n",
       "                 Generalized Linear Model Regression Results                  \n",
       "==============================================================================\n",
       "Dep. Variable:              Direction   No. Observations:                 1088\n",
       "Model:                            GLM   Df Residuals:                     1085\n",
       "Model Family:                Binomial   Df Model:                            2\n",
       "Link Function:                  Logit   Scale:                          1.0000\n",
       "Method:                          IRLS   Log-Likelihood:                -743.26\n",
       "Date:                Fri, 03 May 2024   Deviance:                       1486.5\n",
       "Time:                        20:54:16   Pearson chi2:                 1.09e+03\n",
       "No. Iterations:                     4   Pseudo R-squ. (CS):           0.007373\n",
       "Covariance Type:            nonrobust                                         \n",
       "==============================================================================\n",
       "                 coef    std err          z      P>|z|      [0.025      0.975]\n",
       "------------------------------------------------------------------------------\n",
       "const          0.2232      0.061      3.630      0.000       0.103       0.344\n",
       "Lag1          -0.0384      0.026     -1.466      0.143      -0.090       0.013\n",
       "Lag2           0.0608      0.027      2.291      0.022       0.009       0.113\n",
       "==============================================================================\n",
       "\"\"\""
      ]
     },
     "execution_count": 33,
     "metadata": {},
     "output_type": "execute_result"
    }
   ],
   "source": [
    "glm1 = sm.GLM(y1,X1,family=sm.families.Binomial())\n",
    "results1 = glm1.fit()\n",
    "results1.summary()"
   ]
  },
  {
   "cell_type": "markdown",
   "id": "f74ae927-b5e0-4120-87f4-fccbfe276449",
   "metadata": {},
   "source": [
    "#### (c)"
   ]
  },
  {
   "cell_type": "code",
   "execution_count": 34,
   "id": "a37f9a38-dddf-4d5c-8959-84e2d9488b36",
   "metadata": {},
   "outputs": [
    {
     "name": "stdout",
     "output_type": "stream",
     "text": [
      "Real market movement is \"Down\", predicted \"Up\"\n"
     ]
    }
   ],
   "source": [
    "X1_test=weekly.loc[1, [\"Lag1\", \"Lag2\"]].to_frame().T\n",
    "X1_test=sm.add_constant(X1_test, has_constant='add')\n",
    "X1_test[\"Lag1\"]=pd.to_numeric(X1_test[\"Lag1\"])\n",
    "X1_test[\"Lag2\"]=pd.to_numeric(X1_test[\"Lag1\"])\n",
    "probs = results1.predict(X1_test)\n",
    "if probs[len(probs)] > 0.5:\n",
    "    prediction = \"Up\"\n",
    "else:\n",
    "    prediction = \"Down\"\n",
    "print(f'Real market movement is \"{weekly.loc[0, \"Direction\"]}\", predicted \"{prediction}\"')\n"
   ]
  },
  {
   "cell_type": "markdown",
   "id": "e69c24eb-083f-4885-a071-b84c30419bb5",
   "metadata": {},
   "source": [
    "**[ANSWER] There was wrong classification.**"
   ]
  },
  {
   "cell_type": "markdown",
   "id": "35e28ba0-0b1d-4993-a393-da5d7631fa45",
   "metadata": {},
   "source": [
    "#### (d)"
   ]
  },
  {
   "cell_type": "code",
   "execution_count": 35,
   "id": "5a3de2b2-40a3-47f5-99f1-5490d1f92d3d",
   "metadata": {},
   "outputs": [],
   "source": [
    "predicted=[]\n",
    "for i in range (weekly.shape[0]):\n",
    "    X2 = weekly.loc[weekly.index != i, [\"Lag1\", \"Lag2\"]]\n",
    "    X2 = sm.add_constant(X2)\n",
    "    y2 = weekly.Direction == 'Up'\n",
    "    y2 = y2.loc[weekly.index != i]\n",
    "    glm2 = sm.GLM(y2,X2,family=sm.families.Binomial())\n",
    "    results2 = glm2.fit()\n",
    "    \n",
    "    X2_test=weekly.loc[i, [\"Lag1\", \"Lag2\"]].to_frame().T\n",
    "    X2_test=sm.add_constant(X2_test, has_constant='add')\n",
    "    X2_test[\"Lag1\"]=pd.to_numeric(X2_test[\"Lag1\"])\n",
    "    X2_test[\"Lag2\"]=pd.to_numeric(X2_test[\"Lag1\"])\n",
    "    probs = results2.predict(X2_test)\n",
    "    probs =probs.reset_index(drop=True)\n",
    "    if  probs[0]>0.5:\n",
    "        prediction = \"Up\"\n",
    "    else:\n",
    "        prediction = \"Down\"\n",
    "    if prediction == weekly.loc[i, \"Direction\"]:\n",
    "        predicted.append(1)\n",
    "    else:\n",
    "        predicted.append(0)"
   ]
  },
  {
   "cell_type": "markdown",
   "id": "d3416e6f-e5e6-4cd7-84fa-10a6a52bdcdd",
   "metadata": {},
   "source": [
    "#### (e)"
   ]
  },
  {
   "cell_type": "code",
   "execution_count": 36,
   "id": "f56d7f96-907f-4d55-96a3-537481a86e3c",
   "metadata": {},
   "outputs": [
    {
     "data": {
      "text/plain": [
       "0.55188246097337"
      ]
     },
     "execution_count": 36,
     "metadata": {},
     "output_type": "execute_result"
    }
   ],
   "source": [
    "np.mean(predicted)"
   ]
  },
  {
   "cell_type": "markdown",
   "id": "3665e37f-eb4f-41a9-94e1-d3f6e5332d42",
   "metadata": {},
   "source": [
    "**[ANSWER] Classification was correct in 55.19% observations.**"
   ]
  },
  {
   "cell_type": "markdown",
   "id": "1a72fcfa-cb48-4183-ba79-e1ad40ea46c3",
   "metadata": {},
   "source": [
    "___"
   ]
  },
  {
   "cell_type": "markdown",
   "id": "85df73b8-ace5-4dd7-b5d1-0fee31a266bc",
   "metadata": {},
   "source": [
    "### 8."
   ]
  },
  {
   "cell_type": "markdown",
   "id": "82ecc9df-22e5-402c-a991-962460013c00",
   "metadata": {},
   "source": [
    "#### (a)"
   ]
  },
  {
   "cell_type": "code",
   "execution_count": 37,
   "id": "2ea397f8-fcf1-48e4-9a59-335dfb3c311b",
   "metadata": {},
   "outputs": [],
   "source": [
    "rng = np.random.default_rng(1)\n",
    "X = rng.normal(size=100)\n",
    "y = X - 2 * X**2 + rng.normal(size=100)"
   ]
  },
  {
   "cell_type": "markdown",
   "id": "414085a2-0b7d-430c-bdc8-5db85d92440b",
   "metadata": {},
   "source": [
    "**[ANSWER] n=100 - number of observations, p=1 number of predictors (X)\n",
    "$$y=X-2X^2 + ϵ$$**"
   ]
  },
  {
   "cell_type": "markdown",
   "id": "4d286874-6993-4d87-8417-b46cea8e2b5b",
   "metadata": {},
   "source": [
    "#### (b)"
   ]
  },
  {
   "cell_type": "code",
   "execution_count": 38,
   "id": "31378a39-5cea-40c0-9f57-44f8c600ba9b",
   "metadata": {},
   "outputs": [
    {
     "data": {
      "image/png": "[encoded data removed]",
      "text/plain": [
       "<Figure size 640x480 with 1 Axes>"
      ]
     },
     "metadata": {},
     "output_type": "display_data"
    }
   ],
   "source": [
    "ax = sns.scatterplot(x=X,y=y)\n",
    "ax.set(xlabel='X', ylabel='y')\n",
    "plt.show()"
   ]
  },
  {
   "cell_type": "markdown",
   "id": "13e186ef-3e6b-4fb0-a4b9-aeaed605876a",
   "metadata": {},
   "source": [
    "**[ANSWER] Formula above and graph belong to quadratic function**"
   ]
  },
  {
   "cell_type": "markdown",
   "id": "a25fc900-e6c6-42b0-a93d-048b5f9a0460",
   "metadata": {},
   "source": [
    "#### (c)"
   ]
  },
  {
   "cell_type": "code",
   "execution_count": 39,
   "id": "d488afcf-73aa-49f1-90f2-1404aca5c572",
   "metadata": {},
   "outputs": [],
   "source": [
    "df=pd.DataFrame()\n",
    "df['X']=X\n",
    "df['y']=y"
   ]
  },
  {
   "cell_type": "code",
   "execution_count": 40,
   "id": "e4155e73-755e-47b0-9612-94e58a2cc3e5",
   "metadata": {},
   "outputs": [
    {
     "data": {
      "text/plain": [
       "6.633029839181983"
      ]
     },
     "execution_count": 40,
     "metadata": {},
     "output_type": "execute_result"
    }
   ],
   "source": [
    "hp_model = sklearn_sm(sm.OLS,\n",
    "                      MS(['X']))\n",
    "X, Y = df.drop(columns=['y']), df['y']\n",
    "cv_results = cross_validate(hp_model,\n",
    "                            X,\n",
    "                            Y,\n",
    "                            cv=df.shape[0])\n",
    "cv_err = np.mean(cv_results['test_score'])\n",
    "cv_err"
   ]
  },
  {
   "cell_type": "code",
   "execution_count": 41,
   "id": "bcd48531-6a36-4fa0-b6f1-cca4f5084f21",
   "metadata": {},
   "outputs": [
    {
     "data": {
      "text/plain": [
       "array([6.63302984, 1.12293686, 1.30179655, 1.33239427])"
      ]
     },
     "execution_count": 41,
     "metadata": {},
     "output_type": "execute_result"
    }
   ],
   "source": [
    "cv_error = np.zeros(4)\n",
    "H = np.array(df['X'])\n",
    "M = sklearn_sm(sm.OLS)\n",
    "for i, d in enumerate(range(1,5)):\n",
    "    X = np.power.outer(H, np.arange(d+1))\n",
    "    M_CV = cross_validate(M,\n",
    "                          X,\n",
    "                          Y,\n",
    "                          cv=df.shape[0])\n",
    "    cv_error[i] = np.mean(M_CV['test_score'])\n",
    "cv_error"
   ]
  },
  {
   "cell_type": "markdown",
   "id": "b760334e-dfa6-457b-984d-923ed0da688a",
   "metadata": {},
   "source": [
    "#### (d)"
   ]
  },
  {
   "cell_type": "markdown",
   "id": "e189bf06-6177-4f62-be3c-bd541ace7ec8",
   "metadata": {},
   "source": [
    "**[ANSWER] I see no random seed involved in LOOCV as we are excluding one observation for run and making n iterations. So result wouldn't change at all.**"
   ]
  },
  {
   "cell_type": "markdown",
   "id": "937524fe-437d-4d1a-beca-5484a58776ba",
   "metadata": {},
   "source": [
    "#### (e)"
   ]
  },
  {
   "cell_type": "markdown",
   "id": "e0733348-d72c-463d-b40b-358be0582fa0",
   "metadata": {},
   "source": [
    "**[ANSWER] Quadratic function has smallest MSE as expected.**"
   ]
  },
  {
   "cell_type": "markdown",
   "id": "fb7cd32d-8a6a-4132-b887-2f9b244c075c",
   "metadata": {},
   "source": [
    "#### (f)"
   ]
  },
  {
   "cell_type": "code",
   "execution_count": 42,
   "id": "7ce36e01-7ee6-4753-b067-b099b089aa8c",
   "metadata": {},
   "outputs": [
    {
     "data": {
      "text/html": [
       "<table class=\"simpletable\">\n",
       "<caption>OLS Regression Results</caption>\n",
       "<tr>\n",
       "  <th>Dep. Variable:</th>            <td>y</td>        <th>  R-squared:         </th> <td>   0.318</td>\n",
       "</tr>\n",
       "<tr>\n",
       "  <th>Model:</th>                   <td>OLS</td>       <th>  Adj. R-squared:    </th> <td>   0.311</td>\n",
       "</tr>\n",
       "<tr>\n",
       "  <th>Method:</th>             <td>Least Squares</td>  <th>  F-statistic:       </th> <td>   45.60</td>\n",
       "</tr>\n",
       "<tr>\n",
       "  <th>Date:</th>             <td>Fri, 03 May 2024</td> <th>  Prob (F-statistic):</th> <td>1.04e-09</td>\n",
       "</tr>\n",
       "<tr>\n",
       "  <th>Time:</th>                 <td>20:54:29</td>     <th>  Log-Likelihood:    </th> <td> -230.83</td>\n",
       "</tr>\n",
       "<tr>\n",
       "  <th>No. Observations:</th>      <td>   100</td>      <th>  AIC:               </th> <td>   465.7</td>\n",
       "</tr>\n",
       "<tr>\n",
       "  <th>Df Residuals:</th>          <td>    98</td>      <th>  BIC:               </th> <td>   470.9</td>\n",
       "</tr>\n",
       "<tr>\n",
       "  <th>Df Model:</th>              <td>     1</td>      <th>                     </th>     <td> </td>   \n",
       "</tr>\n",
       "<tr>\n",
       "  <th>Covariance Type:</th>      <td>nonrobust</td>    <th>                     </th>     <td> </td>   \n",
       "</tr>\n",
       "</table>\n",
       "<table class=\"simpletable\">\n",
       "<tr>\n",
       "      <td></td>         <th>coef</th>     <th>std err</th>      <th>t</th>      <th>P>|t|</th>  <th>[0.025</th>    <th>0.975]</th>  \n",
       "</tr>\n",
       "<tr>\n",
       "  <th>Intercept</th> <td>   -1.4650</td> <td>    0.247</td> <td>   -5.937</td> <td> 0.000</td> <td>   -1.955</td> <td>   -0.975</td>\n",
       "</tr>\n",
       "<tr>\n",
       "  <th>X</th>         <td>    1.9494</td> <td>    0.289</td> <td>    6.752</td> <td> 0.000</td> <td>    1.376</td> <td>    2.522</td>\n",
       "</tr>\n",
       "</table>\n",
       "<table class=\"simpletable\">\n",
       "<tr>\n",
       "  <th>Omnibus:</th>       <td>52.788</td> <th>  Durbin-Watson:     </th> <td>   1.972</td>\n",
       "</tr>\n",
       "<tr>\n",
       "  <th>Prob(Omnibus):</th> <td> 0.000</td> <th>  Jarque-Bera (JB):  </th> <td> 149.089</td>\n",
       "</tr>\n",
       "<tr>\n",
       "  <th>Skew:</th>          <td>-1.953</td> <th>  Prob(JB):          </th> <td>4.22e-33</td>\n",
       "</tr>\n",
       "<tr>\n",
       "  <th>Kurtosis:</th>      <td> 7.530</td> <th>  Cond. No.          </th> <td>    1.20</td>\n",
       "</tr>\n",
       "</table><br/><br/>Notes:<br/>[1] Standard Errors assume that the covariance matrix of the errors is correctly specified."
      ],
      "text/latex": [
       "\\begin{center}\n",
       "\\begin{tabular}{lclc}\n",
       "\\toprule\n",
       "\\textbf{Dep. Variable:}    &        y         & \\textbf{  R-squared:         } &     0.318   \\\\\n",
       "\\textbf{Model:}            &       OLS        & \\textbf{  Adj. R-squared:    } &     0.311   \\\\\n",
       "\\textbf{Method:}           &  Least Squares   & \\textbf{  F-statistic:       } &     45.60   \\\\\n",
       "\\textbf{Date:}             & Fri, 03 May 2024 & \\textbf{  Prob (F-statistic):} &  1.04e-09   \\\\\n",
       "\\textbf{Time:}             &     20:54:29     & \\textbf{  Log-Likelihood:    } &   -230.83   \\\\\n",
       "\\textbf{No. Observations:} &         100      & \\textbf{  AIC:               } &     465.7   \\\\\n",
       "\\textbf{Df Residuals:}     &          98      & \\textbf{  BIC:               } &     470.9   \\\\\n",
       "\\textbf{Df Model:}         &           1      & \\textbf{                     } &             \\\\\n",
       "\\textbf{Covariance Type:}  &    nonrobust     & \\textbf{                     } &             \\\\\n",
       "\\bottomrule\n",
       "\\end{tabular}\n",
       "\\begin{tabular}{lcccccc}\n",
       "                   & \\textbf{coef} & \\textbf{std err} & \\textbf{t} & \\textbf{P$> |$t$|$} & \\textbf{[0.025} & \\textbf{0.975]}  \\\\\n",
       "\\midrule\n",
       "\\textbf{Intercept} &      -1.4650  &        0.247     &    -5.937  &         0.000        &       -1.955    &       -0.975     \\\\\n",
       "\\textbf{X}         &       1.9494  &        0.289     &     6.752  &         0.000        &        1.376    &        2.522     \\\\\n",
       "\\bottomrule\n",
       "\\end{tabular}\n",
       "\\begin{tabular}{lclc}\n",
       "\\textbf{Omnibus:}       & 52.788 & \\textbf{  Durbin-Watson:     } &    1.972  \\\\\n",
       "\\textbf{Prob(Omnibus):} &  0.000 & \\textbf{  Jarque-Bera (JB):  } &  149.089  \\\\\n",
       "\\textbf{Skew:}          & -1.953 & \\textbf{  Prob(JB):          } & 4.22e-33  \\\\\n",
       "\\textbf{Kurtosis:}      &  7.530 & \\textbf{  Cond. No.          } &     1.20  \\\\\n",
       "\\bottomrule\n",
       "\\end{tabular}\n",
       "%\\caption{OLS Regression Results}\n",
       "\\end{center}\n",
       "\n",
       "Notes: \\newline\n",
       " [1] Standard Errors assume that the covariance matrix of the errors is correctly specified."
      ],
      "text/plain": [
       "<class 'statsmodels.iolib.summary.Summary'>\n",
       "\"\"\"\n",
       "                            OLS Regression Results                            \n",
       "==============================================================================\n",
       "Dep. Variable:                      y   R-squared:                       0.318\n",
       "Model:                            OLS   Adj. R-squared:                  0.311\n",
       "Method:                 Least Squares   F-statistic:                     45.60\n",
       "Date:                Fri, 03 May 2024   Prob (F-statistic):           1.04e-09\n",
       "Time:                        20:54:29   Log-Likelihood:                -230.83\n",
       "No. Observations:                 100   AIC:                             465.7\n",
       "Df Residuals:                      98   BIC:                             470.9\n",
       "Df Model:                           1                                         \n",
       "Covariance Type:            nonrobust                                         \n",
       "==============================================================================\n",
       "                 coef    std err          t      P>|t|      [0.025      0.975]\n",
       "------------------------------------------------------------------------------\n",
       "Intercept     -1.4650      0.247     -5.937      0.000      -1.955      -0.975\n",
       "X              1.9494      0.289      6.752      0.000       1.376       2.522\n",
       "==============================================================================\n",
       "Omnibus:                       52.788   Durbin-Watson:                   1.972\n",
       "Prob(Omnibus):                  0.000   Jarque-Bera (JB):              149.089\n",
       "Skew:                          -1.953   Prob(JB):                     4.22e-33\n",
       "Kurtosis:                       7.530   Cond. No.                         1.20\n",
       "==============================================================================\n",
       "\n",
       "Notes:\n",
       "[1] Standard Errors assume that the covariance matrix of the errors is correctly specified.\n",
       "\"\"\""
      ]
     },
     "execution_count": 42,
     "metadata": {},
     "output_type": "execute_result"
    }
   ],
   "source": [
    "model = smf.ols('y ~ X', data=df).fit()\n",
    "model.summary()"
   ]
  },
  {
   "cell_type": "markdown",
   "id": "1764599e-6224-4554-b609-206f82f9eee7",
   "metadata": {},
   "source": [
    "**[ANSWER] Linear model: the coefficient estimate is statistically significant at the 5% level** "
   ]
  },
  {
   "cell_type": "code",
   "execution_count": 43,
   "id": "f66229ac-7986-410a-9a4e-d7f3ad841e23",
   "metadata": {},
   "outputs": [
    {
     "data": {
      "text/html": [
       "<table class=\"simpletable\">\n",
       "<caption>OLS Regression Results</caption>\n",
       "<tr>\n",
       "  <th>Dep. Variable:</th>            <td>y</td>        <th>  R-squared:         </th> <td>   0.887</td>\n",
       "</tr>\n",
       "<tr>\n",
       "  <th>Model:</th>                   <td>OLS</td>       <th>  Adj. R-squared:    </th> <td>   0.884</td>\n",
       "</tr>\n",
       "<tr>\n",
       "  <th>Method:</th>             <td>Least Squares</td>  <th>  F-statistic:       </th> <td>   379.5</td>\n",
       "</tr>\n",
       "<tr>\n",
       "  <th>Date:</th>             <td>Fri, 03 May 2024</td> <th>  Prob (F-statistic):</th> <td>1.36e-46</td>\n",
       "</tr>\n",
       "<tr>\n",
       "  <th>Time:</th>                 <td>20:54:29</td>     <th>  Log-Likelihood:    </th> <td> -141.06</td>\n",
       "</tr>\n",
       "<tr>\n",
       "  <th>No. Observations:</th>      <td>   100</td>      <th>  AIC:               </th> <td>   288.1</td>\n",
       "</tr>\n",
       "<tr>\n",
       "  <th>Df Residuals:</th>          <td>    97</td>      <th>  BIC:               </th> <td>   295.9</td>\n",
       "</tr>\n",
       "<tr>\n",
       "  <th>Df Model:</th>              <td>     2</td>      <th>                     </th>     <td> </td>   \n",
       "</tr>\n",
       "<tr>\n",
       "  <th>Covariance Type:</th>      <td>nonrobust</td>    <th>                     </th>     <td> </td>   \n",
       "</tr>\n",
       "</table>\n",
       "<table class=\"simpletable\">\n",
       "<tr>\n",
       "         <td></td>           <th>coef</th>     <th>std err</th>      <th>t</th>      <th>P>|t|</th>  <th>[0.025</th>    <th>0.975]</th>  \n",
       "</tr>\n",
       "<tr>\n",
       "  <th>Intercept</th>      <td>   -0.0728</td> <td>    0.119</td> <td>   -0.611</td> <td> 0.543</td> <td>   -0.309</td> <td>    0.164</td>\n",
       "</tr>\n",
       "<tr>\n",
       "  <th>X</th>              <td>    0.9663</td> <td>    0.126</td> <td>    7.647</td> <td> 0.000</td> <td>    0.715</td> <td>    1.217</td>\n",
       "</tr>\n",
       "<tr>\n",
       "  <th>np.power(X, 2)</th> <td>   -2.0047</td> <td>    0.091</td> <td>  -22.072</td> <td> 0.000</td> <td>   -2.185</td> <td>   -1.824</td>\n",
       "</tr>\n",
       "</table>\n",
       "<table class=\"simpletable\">\n",
       "<tr>\n",
       "  <th>Omnibus:</th>       <td> 1.338</td> <th>  Durbin-Watson:     </th> <td>   2.197</td>\n",
       "</tr>\n",
       "<tr>\n",
       "  <th>Prob(Omnibus):</th> <td> 0.512</td> <th>  Jarque-Bera (JB):  </th> <td>   0.814</td>\n",
       "</tr>\n",
       "<tr>\n",
       "  <th>Skew:</th>          <td> 0.119</td> <th>  Prob(JB):          </th> <td>   0.666</td>\n",
       "</tr>\n",
       "<tr>\n",
       "  <th>Kurtosis:</th>      <td> 3.372</td> <th>  Cond. No.          </th> <td>    2.23</td>\n",
       "</tr>\n",
       "</table><br/><br/>Notes:<br/>[1] Standard Errors assume that the covariance matrix of the errors is correctly specified."
      ],
      "text/latex": [
       "\\begin{center}\n",
       "\\begin{tabular}{lclc}\n",
       "\\toprule\n",
       "\\textbf{Dep. Variable:}    &        y         & \\textbf{  R-squared:         } &     0.887   \\\\\n",
       "\\textbf{Model:}            &       OLS        & \\textbf{  Adj. R-squared:    } &     0.884   \\\\\n",
       "\\textbf{Method:}           &  Least Squares   & \\textbf{  F-statistic:       } &     379.5   \\\\\n",
       "\\textbf{Date:}             & Fri, 03 May 2024 & \\textbf{  Prob (F-statistic):} &  1.36e-46   \\\\\n",
       "\\textbf{Time:}             &     20:54:29     & \\textbf{  Log-Likelihood:    } &   -141.06   \\\\\n",
       "\\textbf{No. Observations:} &         100      & \\textbf{  AIC:               } &     288.1   \\\\\n",
       "\\textbf{Df Residuals:}     &          97      & \\textbf{  BIC:               } &     295.9   \\\\\n",
       "\\textbf{Df Model:}         &           2      & \\textbf{                     } &             \\\\\n",
       "\\textbf{Covariance Type:}  &    nonrobust     & \\textbf{                     } &             \\\\\n",
       "\\bottomrule\n",
       "\\end{tabular}\n",
       "\\begin{tabular}{lcccccc}\n",
       "                        & \\textbf{coef} & \\textbf{std err} & \\textbf{t} & \\textbf{P$> |$t$|$} & \\textbf{[0.025} & \\textbf{0.975]}  \\\\\n",
       "\\midrule\n",
       "\\textbf{Intercept}      &      -0.0728  &        0.119     &    -0.611  &         0.543        &       -0.309    &        0.164     \\\\\n",
       "\\textbf{X}              &       0.9663  &        0.126     &     7.647  &         0.000        &        0.715    &        1.217     \\\\\n",
       "\\textbf{np.power(X, 2)} &      -2.0047  &        0.091     &   -22.072  &         0.000        &       -2.185    &       -1.824     \\\\\n",
       "\\bottomrule\n",
       "\\end{tabular}\n",
       "\\begin{tabular}{lclc}\n",
       "\\textbf{Omnibus:}       &  1.338 & \\textbf{  Durbin-Watson:     } &    2.197  \\\\\n",
       "\\textbf{Prob(Omnibus):} &  0.512 & \\textbf{  Jarque-Bera (JB):  } &    0.814  \\\\\n",
       "\\textbf{Skew:}          &  0.119 & \\textbf{  Prob(JB):          } &    0.666  \\\\\n",
       "\\textbf{Kurtosis:}      &  3.372 & \\textbf{  Cond. No.          } &     2.23  \\\\\n",
       "\\bottomrule\n",
       "\\end{tabular}\n",
       "%\\caption{OLS Regression Results}\n",
       "\\end{center}\n",
       "\n",
       "Notes: \\newline\n",
       " [1] Standard Errors assume that the covariance matrix of the errors is correctly specified."
      ],
      "text/plain": [
       "<class 'statsmodels.iolib.summary.Summary'>\n",
       "\"\"\"\n",
       "                            OLS Regression Results                            \n",
       "==============================================================================\n",
       "Dep. Variable:                      y   R-squared:                       0.887\n",
       "Model:                            OLS   Adj. R-squared:                  0.884\n",
       "Method:                 Least Squares   F-statistic:                     379.5\n",
       "Date:                Fri, 03 May 2024   Prob (F-statistic):           1.36e-46\n",
       "Time:                        20:54:29   Log-Likelihood:                -141.06\n",
       "No. Observations:                 100   AIC:                             288.1\n",
       "Df Residuals:                      97   BIC:                             295.9\n",
       "Df Model:                           2                                         \n",
       "Covariance Type:            nonrobust                                         \n",
       "==================================================================================\n",
       "                     coef    std err          t      P>|t|      [0.025      0.975]\n",
       "----------------------------------------------------------------------------------\n",
       "Intercept         -0.0728      0.119     -0.611      0.543      -0.309       0.164\n",
       "X                  0.9663      0.126      7.647      0.000       0.715       1.217\n",
       "np.power(X, 2)    -2.0047      0.091    -22.072      0.000      -2.185      -1.824\n",
       "==============================================================================\n",
       "Omnibus:                        1.338   Durbin-Watson:                   2.197\n",
       "Prob(Omnibus):                  0.512   Jarque-Bera (JB):                0.814\n",
       "Skew:                           0.119   Prob(JB):                        0.666\n",
       "Kurtosis:                       3.372   Cond. No.                         2.23\n",
       "==============================================================================\n",
       "\n",
       "Notes:\n",
       "[1] Standard Errors assume that the covariance matrix of the errors is correctly specified.\n",
       "\"\"\""
      ]
     },
     "execution_count": 43,
     "metadata": {},
     "output_type": "execute_result"
    }
   ],
   "source": [
    "model2 = smf.ols('y ~ X + np.power(X,2)', data=df).fit()\n",
    "model2.summary()"
   ]
  },
  {
   "cell_type": "markdown",
   "id": "1f0da52d-2bea-4d39-9d54-41a227a8299f",
   "metadata": {},
   "source": [
    "**[ANSWER] Quadratic model: the coefficient estimate is statistically significant at the 5% level. But intercept can be omitted. Let's update model accordingly.** "
   ]
  },
  {
   "cell_type": "code",
   "execution_count": 44,
   "id": "ac266d12-7e67-436c-8f3e-a690c2153b9e",
   "metadata": {},
   "outputs": [
    {
     "data": {
      "text/html": [
       "<table class=\"simpletable\">\n",
       "<caption>OLS Regression Results</caption>\n",
       "<tr>\n",
       "  <th>Dep. Variable:</th>            <td>y</td>        <th>  R-squared (uncentered):</th>      <td>   0.912</td>\n",
       "</tr>\n",
       "<tr>\n",
       "  <th>Model:</th>                   <td>OLS</td>       <th>  Adj. R-squared (uncentered):</th> <td>   0.911</td>\n",
       "</tr>\n",
       "<tr>\n",
       "  <th>Method:</th>             <td>Least Squares</td>  <th>  F-statistic:       </th>          <td>   510.2</td>\n",
       "</tr>\n",
       "<tr>\n",
       "  <th>Date:</th>             <td>Fri, 03 May 2024</td> <th>  Prob (F-statistic):</th>          <td>1.55e-52</td>\n",
       "</tr>\n",
       "<tr>\n",
       "  <th>Time:</th>                 <td>20:54:29</td>     <th>  Log-Likelihood:    </th>          <td> -141.25</td>\n",
       "</tr>\n",
       "<tr>\n",
       "  <th>No. Observations:</th>      <td>   100</td>      <th>  AIC:               </th>          <td>   286.5</td>\n",
       "</tr>\n",
       "<tr>\n",
       "  <th>Df Residuals:</th>          <td>    98</td>      <th>  BIC:               </th>          <td>   291.7</td>\n",
       "</tr>\n",
       "<tr>\n",
       "  <th>Df Model:</th>              <td>     2</td>      <th>                     </th>              <td> </td>   \n",
       "</tr>\n",
       "<tr>\n",
       "  <th>Covariance Type:</th>      <td>nonrobust</td>    <th>                     </th>              <td> </td>   \n",
       "</tr>\n",
       "</table>\n",
       "<table class=\"simpletable\">\n",
       "<tr>\n",
       "         <td></td>           <th>coef</th>     <th>std err</th>      <th>t</th>      <th>P>|t|</th>  <th>[0.025</th>    <th>0.975]</th>  \n",
       "</tr>\n",
       "<tr>\n",
       "  <th>X</th>              <td>    0.9571</td> <td>    0.125</td> <td>    7.653</td> <td> 0.000</td> <td>    0.709</td> <td>    1.205</td>\n",
       "</tr>\n",
       "<tr>\n",
       "  <th>np.power(X, 2)</th> <td>   -2.0341</td> <td>    0.077</td> <td>  -26.484</td> <td> 0.000</td> <td>   -2.186</td> <td>   -1.882</td>\n",
       "</tr>\n",
       "</table>\n",
       "<table class=\"simpletable\">\n",
       "<tr>\n",
       "  <th>Omnibus:</th>       <td> 1.876</td> <th>  Durbin-Watson:     </th> <td>   2.183</td>\n",
       "</tr>\n",
       "<tr>\n",
       "  <th>Prob(Omnibus):</th> <td> 0.391</td> <th>  Jarque-Bera (JB):  </th> <td>   1.319</td>\n",
       "</tr>\n",
       "<tr>\n",
       "  <th>Skew:</th>          <td> 0.158</td> <th>  Prob(JB):          </th> <td>   0.517</td>\n",
       "</tr>\n",
       "<tr>\n",
       "  <th>Kurtosis:</th>      <td> 3.465</td> <th>  Cond. No.          </th> <td>    1.85</td>\n",
       "</tr>\n",
       "</table><br/><br/>Notes:<br/>[1] R² is computed without centering (uncentered) since the model does not contain a constant.<br/>[2] Standard Errors assume that the covariance matrix of the errors is correctly specified."
      ],
      "text/latex": [
       "\\begin{center}\n",
       "\\begin{tabular}{lclc}\n",
       "\\toprule\n",
       "\\textbf{Dep. Variable:}    &        y         & \\textbf{  R-squared (uncentered):}      &     0.912   \\\\\n",
       "\\textbf{Model:}            &       OLS        & \\textbf{  Adj. R-squared (uncentered):} &     0.911   \\\\\n",
       "\\textbf{Method:}           &  Least Squares   & \\textbf{  F-statistic:       }          &     510.2   \\\\\n",
       "\\textbf{Date:}             & Fri, 03 May 2024 & \\textbf{  Prob (F-statistic):}          &  1.55e-52   \\\\\n",
       "\\textbf{Time:}             &     20:54:29     & \\textbf{  Log-Likelihood:    }          &   -141.25   \\\\\n",
       "\\textbf{No. Observations:} &         100      & \\textbf{  AIC:               }          &     286.5   \\\\\n",
       "\\textbf{Df Residuals:}     &          98      & \\textbf{  BIC:               }          &     291.7   \\\\\n",
       "\\textbf{Df Model:}         &           2      & \\textbf{                     }          &             \\\\\n",
       "\\textbf{Covariance Type:}  &    nonrobust     & \\textbf{                     }          &             \\\\\n",
       "\\bottomrule\n",
       "\\end{tabular}\n",
       "\\begin{tabular}{lcccccc}\n",
       "                        & \\textbf{coef} & \\textbf{std err} & \\textbf{t} & \\textbf{P$> |$t$|$} & \\textbf{[0.025} & \\textbf{0.975]}  \\\\\n",
       "\\midrule\n",
       "\\textbf{X}              &       0.9571  &        0.125     &     7.653  &         0.000        &        0.709    &        1.205     \\\\\n",
       "\\textbf{np.power(X, 2)} &      -2.0341  &        0.077     &   -26.484  &         0.000        &       -2.186    &       -1.882     \\\\\n",
       "\\bottomrule\n",
       "\\end{tabular}\n",
       "\\begin{tabular}{lclc}\n",
       "\\textbf{Omnibus:}       &  1.876 & \\textbf{  Durbin-Watson:     } &    2.183  \\\\\n",
       "\\textbf{Prob(Omnibus):} &  0.391 & \\textbf{  Jarque-Bera (JB):  } &    1.319  \\\\\n",
       "\\textbf{Skew:}          &  0.158 & \\textbf{  Prob(JB):          } &    0.517  \\\\\n",
       "\\textbf{Kurtosis:}      &  3.465 & \\textbf{  Cond. No.          } &     1.85  \\\\\n",
       "\\bottomrule\n",
       "\\end{tabular}\n",
       "%\\caption{OLS Regression Results}\n",
       "\\end{center}\n",
       "\n",
       "Notes: \\newline\n",
       " [1] R² is computed without centering (uncentered) since the model does not contain a constant. \\newline\n",
       " [2] Standard Errors assume that the covariance matrix of the errors is correctly specified."
      ],
      "text/plain": [
       "<class 'statsmodels.iolib.summary.Summary'>\n",
       "\"\"\"\n",
       "                                 OLS Regression Results                                \n",
       "=======================================================================================\n",
       "Dep. Variable:                      y   R-squared (uncentered):                   0.912\n",
       "Model:                            OLS   Adj. R-squared (uncentered):              0.911\n",
       "Method:                 Least Squares   F-statistic:                              510.2\n",
       "Date:                Fri, 03 May 2024   Prob (F-statistic):                    1.55e-52\n",
       "Time:                        20:54:29   Log-Likelihood:                         -141.25\n",
       "No. Observations:                 100   AIC:                                      286.5\n",
       "Df Residuals:                      98   BIC:                                      291.7\n",
       "Df Model:                           2                                                  \n",
       "Covariance Type:            nonrobust                                                  \n",
       "==================================================================================\n",
       "                     coef    std err          t      P>|t|      [0.025      0.975]\n",
       "----------------------------------------------------------------------------------\n",
       "X                  0.9571      0.125      7.653      0.000       0.709       1.205\n",
       "np.power(X, 2)    -2.0341      0.077    -26.484      0.000      -2.186      -1.882\n",
       "==============================================================================\n",
       "Omnibus:                        1.876   Durbin-Watson:                   2.183\n",
       "Prob(Omnibus):                  0.391   Jarque-Bera (JB):                1.319\n",
       "Skew:                           0.158   Prob(JB):                        0.517\n",
       "Kurtosis:                       3.465   Cond. No.                         1.85\n",
       "==============================================================================\n",
       "\n",
       "Notes:\n",
       "[1] R² is computed without centering (uncentered) since the model does not contain a constant.\n",
       "[2] Standard Errors assume that the covariance matrix of the errors is correctly specified.\n",
       "\"\"\""
      ]
     },
     "execution_count": 44,
     "metadata": {},
     "output_type": "execute_result"
    }
   ],
   "source": [
    "model2 = smf.ols('y ~ X + np.power(X,2)-1', data=df).fit()\n",
    "model2.summary()"
   ]
  },
  {
   "cell_type": "markdown",
   "id": "cbd9e1f4-524a-4f03-b163-7789b1bfb0e5",
   "metadata": {},
   "source": [
    "**[ANSWER] Updated model R squared adj. is higher.** "
   ]
  },
  {
   "cell_type": "code",
   "execution_count": 45,
   "id": "fc39f624-469e-4471-9189-d8fac7bba1e3",
   "metadata": {},
   "outputs": [
    {
     "data": {
      "text/html": [
       "<table class=\"simpletable\">\n",
       "<caption>OLS Regression Results</caption>\n",
       "<tr>\n",
       "  <th>Dep. Variable:</th>            <td>y</td>        <th>  R-squared:         </th> <td>   0.888</td>\n",
       "</tr>\n",
       "<tr>\n",
       "  <th>Model:</th>                   <td>OLS</td>       <th>  Adj. R-squared:    </th> <td>   0.885</td>\n",
       "</tr>\n",
       "<tr>\n",
       "  <th>Method:</th>             <td>Least Squares</td>  <th>  F-statistic:       </th> <td>   253.8</td>\n",
       "</tr>\n",
       "<tr>\n",
       "  <th>Date:</th>             <td>Fri, 03 May 2024</td> <th>  Prob (F-statistic):</th> <td>1.70e-45</td>\n",
       "</tr>\n",
       "<tr>\n",
       "  <th>Time:</th>                 <td>20:54:29</td>     <th>  Log-Likelihood:    </th> <td> -140.47</td>\n",
       "</tr>\n",
       "<tr>\n",
       "  <th>No. Observations:</th>      <td>   100</td>      <th>  AIC:               </th> <td>   288.9</td>\n",
       "</tr>\n",
       "<tr>\n",
       "  <th>Df Residuals:</th>          <td>    96</td>      <th>  BIC:               </th> <td>   299.4</td>\n",
       "</tr>\n",
       "<tr>\n",
       "  <th>Df Model:</th>              <td>     3</td>      <th>                     </th>     <td> </td>   \n",
       "</tr>\n",
       "<tr>\n",
       "  <th>Covariance Type:</th>      <td>nonrobust</td>    <th>                     </th>     <td> </td>   \n",
       "</tr>\n",
       "</table>\n",
       "<table class=\"simpletable\">\n",
       "<tr>\n",
       "         <td></td>           <th>coef</th>     <th>std err</th>      <th>t</th>      <th>P>|t|</th>  <th>[0.025</th>    <th>0.975]</th>  \n",
       "</tr>\n",
       "<tr>\n",
       "  <th>Intercept</th>      <td>   -0.0572</td> <td>    0.120</td> <td>   -0.477</td> <td> 0.635</td> <td>   -0.295</td> <td>    0.181</td>\n",
       "</tr>\n",
       "<tr>\n",
       "  <th>X</th>              <td>    1.1146</td> <td>    0.187</td> <td>    5.945</td> <td> 0.000</td> <td>    0.742</td> <td>    1.487</td>\n",
       "</tr>\n",
       "<tr>\n",
       "  <th>np.power(X, 2)</th> <td>   -2.0471</td> <td>    0.099</td> <td>  -20.673</td> <td> 0.000</td> <td>   -2.244</td> <td>   -1.851</td>\n",
       "</tr>\n",
       "<tr>\n",
       "  <th>np.power(X, 3)</th> <td>   -0.0643</td> <td>    0.060</td> <td>   -1.070</td> <td> 0.287</td> <td>   -0.184</td> <td>    0.055</td>\n",
       "</tr>\n",
       "</table>\n",
       "<table class=\"simpletable\">\n",
       "<tr>\n",
       "  <th>Omnibus:</th>       <td> 0.845</td> <th>  Durbin-Watson:     </th> <td>   2.199</td>\n",
       "</tr>\n",
       "<tr>\n",
       "  <th>Prob(Omnibus):</th> <td> 0.655</td> <th>  Jarque-Bera (JB):  </th> <td>   0.392</td>\n",
       "</tr>\n",
       "<tr>\n",
       "  <th>Skew:</th>          <td> 0.052</td> <th>  Prob(JB):          </th> <td>   0.822</td>\n",
       "</tr>\n",
       "<tr>\n",
       "  <th>Kurtosis:</th>      <td> 3.289</td> <th>  Cond. No.          </th> <td>    5.95</td>\n",
       "</tr>\n",
       "</table><br/><br/>Notes:<br/>[1] Standard Errors assume that the covariance matrix of the errors is correctly specified."
      ],
      "text/latex": [
       "\\begin{center}\n",
       "\\begin{tabular}{lclc}\n",
       "\\toprule\n",
       "\\textbf{Dep. Variable:}    &        y         & \\textbf{  R-squared:         } &     0.888   \\\\\n",
       "\\textbf{Model:}            &       OLS        & \\textbf{  Adj. R-squared:    } &     0.885   \\\\\n",
       "\\textbf{Method:}           &  Least Squares   & \\textbf{  F-statistic:       } &     253.8   \\\\\n",
       "\\textbf{Date:}             & Fri, 03 May 2024 & \\textbf{  Prob (F-statistic):} &  1.70e-45   \\\\\n",
       "\\textbf{Time:}             &     20:54:29     & \\textbf{  Log-Likelihood:    } &   -140.47   \\\\\n",
       "\\textbf{No. Observations:} &         100      & \\textbf{  AIC:               } &     288.9   \\\\\n",
       "\\textbf{Df Residuals:}     &          96      & \\textbf{  BIC:               } &     299.4   \\\\\n",
       "\\textbf{Df Model:}         &           3      & \\textbf{                     } &             \\\\\n",
       "\\textbf{Covariance Type:}  &    nonrobust     & \\textbf{                     } &             \\\\\n",
       "\\bottomrule\n",
       "\\end{tabular}\n",
       "\\begin{tabular}{lcccccc}\n",
       "                        & \\textbf{coef} & \\textbf{std err} & \\textbf{t} & \\textbf{P$> |$t$|$} & \\textbf{[0.025} & \\textbf{0.975]}  \\\\\n",
       "\\midrule\n",
       "\\textbf{Intercept}      &      -0.0572  &        0.120     &    -0.477  &         0.635        &       -0.295    &        0.181     \\\\\n",
       "\\textbf{X}              &       1.1146  &        0.187     &     5.945  &         0.000        &        0.742    &        1.487     \\\\\n",
       "\\textbf{np.power(X, 2)} &      -2.0471  &        0.099     &   -20.673  &         0.000        &       -2.244    &       -1.851     \\\\\n",
       "\\textbf{np.power(X, 3)} &      -0.0643  &        0.060     &    -1.070  &         0.287        &       -0.184    &        0.055     \\\\\n",
       "\\bottomrule\n",
       "\\end{tabular}\n",
       "\\begin{tabular}{lclc}\n",
       "\\textbf{Omnibus:}       &  0.845 & \\textbf{  Durbin-Watson:     } &    2.199  \\\\\n",
       "\\textbf{Prob(Omnibus):} &  0.655 & \\textbf{  Jarque-Bera (JB):  } &    0.392  \\\\\n",
       "\\textbf{Skew:}          &  0.052 & \\textbf{  Prob(JB):          } &    0.822  \\\\\n",
       "\\textbf{Kurtosis:}      &  3.289 & \\textbf{  Cond. No.          } &     5.95  \\\\\n",
       "\\bottomrule\n",
       "\\end{tabular}\n",
       "%\\caption{OLS Regression Results}\n",
       "\\end{center}\n",
       "\n",
       "Notes: \\newline\n",
       " [1] Standard Errors assume that the covariance matrix of the errors is correctly specified."
      ],
      "text/plain": [
       "<class 'statsmodels.iolib.summary.Summary'>\n",
       "\"\"\"\n",
       "                            OLS Regression Results                            \n",
       "==============================================================================\n",
       "Dep. Variable:                      y   R-squared:                       0.888\n",
       "Model:                            OLS   Adj. R-squared:                  0.885\n",
       "Method:                 Least Squares   F-statistic:                     253.8\n",
       "Date:                Fri, 03 May 2024   Prob (F-statistic):           1.70e-45\n",
       "Time:                        20:54:29   Log-Likelihood:                -140.47\n",
       "No. Observations:                 100   AIC:                             288.9\n",
       "Df Residuals:                      96   BIC:                             299.4\n",
       "Df Model:                           3                                         \n",
       "Covariance Type:            nonrobust                                         \n",
       "==================================================================================\n",
       "                     coef    std err          t      P>|t|      [0.025      0.975]\n",
       "----------------------------------------------------------------------------------\n",
       "Intercept         -0.0572      0.120     -0.477      0.635      -0.295       0.181\n",
       "X                  1.1146      0.187      5.945      0.000       0.742       1.487\n",
       "np.power(X, 2)    -2.0471      0.099    -20.673      0.000      -2.244      -1.851\n",
       "np.power(X, 3)    -0.0643      0.060     -1.070      0.287      -0.184       0.055\n",
       "==============================================================================\n",
       "Omnibus:                        0.845   Durbin-Watson:                   2.199\n",
       "Prob(Omnibus):                  0.655   Jarque-Bera (JB):                0.392\n",
       "Skew:                           0.052   Prob(JB):                        0.822\n",
       "Kurtosis:                       3.289   Cond. No.                         5.95\n",
       "==============================================================================\n",
       "\n",
       "Notes:\n",
       "[1] Standard Errors assume that the covariance matrix of the errors is correctly specified.\n",
       "\"\"\""
      ]
     },
     "execution_count": 45,
     "metadata": {},
     "output_type": "execute_result"
    }
   ],
   "source": [
    "model3 = smf.ols('y ~ X + np.power(X,2) + np.power(X,3)', data=df).fit()\n",
    "model3.summary()"
   ]
  },
  {
   "cell_type": "markdown",
   "id": "954cf236-1c67-44ea-a79e-8348b092313c",
   "metadata": {},
   "source": [
    "**[ANSWER] Cubic model: the coefficient for x3 and intercept estimates are statistically insignificant at the 5% level. It's also confirmed by higher LOOCV error.** "
   ]
  },
  {
   "cell_type": "code",
   "execution_count": 46,
   "id": "1bab6dec-20ea-47a4-800a-0e58ca12773f",
   "metadata": {},
   "outputs": [
    {
     "data": {
      "text/html": [
       "<table class=\"simpletable\">\n",
       "<caption>OLS Regression Results</caption>\n",
       "<tr>\n",
       "  <th>Dep. Variable:</th>            <td>y</td>        <th>  R-squared:         </th> <td>   0.894</td>\n",
       "</tr>\n",
       "<tr>\n",
       "  <th>Model:</th>                   <td>OLS</td>       <th>  Adj. R-squared:    </th> <td>   0.890</td>\n",
       "</tr>\n",
       "<tr>\n",
       "  <th>Method:</th>             <td>Least Squares</td>  <th>  F-statistic:       </th> <td>   200.2</td>\n",
       "</tr>\n",
       "<tr>\n",
       "  <th>Date:</th>             <td>Fri, 03 May 2024</td> <th>  Prob (F-statistic):</th> <td>2.22e-45</td>\n",
       "</tr>\n",
       "<tr>\n",
       "  <th>Time:</th>                 <td>20:54:29</td>     <th>  Log-Likelihood:    </th> <td> -137.74</td>\n",
       "</tr>\n",
       "<tr>\n",
       "  <th>No. Observations:</th>      <td>   100</td>      <th>  AIC:               </th> <td>   285.5</td>\n",
       "</tr>\n",
       "<tr>\n",
       "  <th>Df Residuals:</th>          <td>    95</td>      <th>  BIC:               </th> <td>   298.5</td>\n",
       "</tr>\n",
       "<tr>\n",
       "  <th>Df Model:</th>              <td>     4</td>      <th>                     </th>     <td> </td>   \n",
       "</tr>\n",
       "<tr>\n",
       "  <th>Covariance Type:</th>      <td>nonrobust</td>    <th>                     </th>     <td> </td>   \n",
       "</tr>\n",
       "</table>\n",
       "<table class=\"simpletable\">\n",
       "<tr>\n",
       "         <td></td>           <th>coef</th>     <th>std err</th>      <th>t</th>      <th>P>|t|</th>  <th>[0.025</th>    <th>0.975]</th>  \n",
       "</tr>\n",
       "<tr>\n",
       "  <th>Intercept</th>      <td>    0.1008</td> <td>    0.136</td> <td>    0.743</td> <td> 0.460</td> <td>   -0.169</td> <td>    0.370</td>\n",
       "</tr>\n",
       "<tr>\n",
       "  <th>X</th>              <td>    0.9050</td> <td>    0.205</td> <td>    4.423</td> <td> 0.000</td> <td>    0.499</td> <td>    1.311</td>\n",
       "</tr>\n",
       "<tr>\n",
       "  <th>np.power(X, 2)</th> <td>   -2.5059</td> <td>    0.221</td> <td>  -11.336</td> <td> 0.000</td> <td>   -2.945</td> <td>   -2.067</td>\n",
       "</tr>\n",
       "<tr>\n",
       "  <th>np.power(X, 3)</th> <td>    0.0338</td> <td>    0.073</td> <td>    0.466</td> <td> 0.642</td> <td>   -0.110</td> <td>    0.178</td>\n",
       "</tr>\n",
       "<tr>\n",
       "  <th>np.power(X, 4)</th> <td>    0.1042</td> <td>    0.045</td> <td>    2.309</td> <td> 0.023</td> <td>    0.015</td> <td>    0.194</td>\n",
       "</tr>\n",
       "</table>\n",
       "<table class=\"simpletable\">\n",
       "<tr>\n",
       "  <th>Omnibus:</th>       <td> 2.476</td> <th>  Durbin-Watson:     </th> <td>   2.163</td>\n",
       "</tr>\n",
       "<tr>\n",
       "  <th>Prob(Omnibus):</th> <td> 0.290</td> <th>  Jarque-Bera (JB):  </th> <td>   2.097</td>\n",
       "</tr>\n",
       "<tr>\n",
       "  <th>Skew:</th>          <td> 0.118</td> <th>  Prob(JB):          </th> <td>   0.351</td>\n",
       "</tr>\n",
       "<tr>\n",
       "  <th>Kurtosis:</th>      <td> 3.669</td> <th>  Cond. No.          </th> <td>    19.9</td>\n",
       "</tr>\n",
       "</table><br/><br/>Notes:<br/>[1] Standard Errors assume that the covariance matrix of the errors is correctly specified."
      ],
      "text/latex": [
       "\\begin{center}\n",
       "\\begin{tabular}{lclc}\n",
       "\\toprule\n",
       "\\textbf{Dep. Variable:}    &        y         & \\textbf{  R-squared:         } &     0.894   \\\\\n",
       "\\textbf{Model:}            &       OLS        & \\textbf{  Adj. R-squared:    } &     0.890   \\\\\n",
       "\\textbf{Method:}           &  Least Squares   & \\textbf{  F-statistic:       } &     200.2   \\\\\n",
       "\\textbf{Date:}             & Fri, 03 May 2024 & \\textbf{  Prob (F-statistic):} &  2.22e-45   \\\\\n",
       "\\textbf{Time:}             &     20:54:29     & \\textbf{  Log-Likelihood:    } &   -137.74   \\\\\n",
       "\\textbf{No. Observations:} &         100      & \\textbf{  AIC:               } &     285.5   \\\\\n",
       "\\textbf{Df Residuals:}     &          95      & \\textbf{  BIC:               } &     298.5   \\\\\n",
       "\\textbf{Df Model:}         &           4      & \\textbf{                     } &             \\\\\n",
       "\\textbf{Covariance Type:}  &    nonrobust     & \\textbf{                     } &             \\\\\n",
       "\\bottomrule\n",
       "\\end{tabular}\n",
       "\\begin{tabular}{lcccccc}\n",
       "                        & \\textbf{coef} & \\textbf{std err} & \\textbf{t} & \\textbf{P$> |$t$|$} & \\textbf{[0.025} & \\textbf{0.975]}  \\\\\n",
       "\\midrule\n",
       "\\textbf{Intercept}      &       0.1008  &        0.136     &     0.743  &         0.460        &       -0.169    &        0.370     \\\\\n",
       "\\textbf{X}              &       0.9050  &        0.205     &     4.423  &         0.000        &        0.499    &        1.311     \\\\\n",
       "\\textbf{np.power(X, 2)} &      -2.5059  &        0.221     &   -11.336  &         0.000        &       -2.945    &       -2.067     \\\\\n",
       "\\textbf{np.power(X, 3)} &       0.0338  &        0.073     &     0.466  &         0.642        &       -0.110    &        0.178     \\\\\n",
       "\\textbf{np.power(X, 4)} &       0.1042  &        0.045     &     2.309  &         0.023        &        0.015    &        0.194     \\\\\n",
       "\\bottomrule\n",
       "\\end{tabular}\n",
       "\\begin{tabular}{lclc}\n",
       "\\textbf{Omnibus:}       &  2.476 & \\textbf{  Durbin-Watson:     } &    2.163  \\\\\n",
       "\\textbf{Prob(Omnibus):} &  0.290 & \\textbf{  Jarque-Bera (JB):  } &    2.097  \\\\\n",
       "\\textbf{Skew:}          &  0.118 & \\textbf{  Prob(JB):          } &    0.351  \\\\\n",
       "\\textbf{Kurtosis:}      &  3.669 & \\textbf{  Cond. No.          } &     19.9  \\\\\n",
       "\\bottomrule\n",
       "\\end{tabular}\n",
       "%\\caption{OLS Regression Results}\n",
       "\\end{center}\n",
       "\n",
       "Notes: \\newline\n",
       " [1] Standard Errors assume that the covariance matrix of the errors is correctly specified."
      ],
      "text/plain": [
       "<class 'statsmodels.iolib.summary.Summary'>\n",
       "\"\"\"\n",
       "                            OLS Regression Results                            \n",
       "==============================================================================\n",
       "Dep. Variable:                      y   R-squared:                       0.894\n",
       "Model:                            OLS   Adj. R-squared:                  0.890\n",
       "Method:                 Least Squares   F-statistic:                     200.2\n",
       "Date:                Fri, 03 May 2024   Prob (F-statistic):           2.22e-45\n",
       "Time:                        20:54:29   Log-Likelihood:                -137.74\n",
       "No. Observations:                 100   AIC:                             285.5\n",
       "Df Residuals:                      95   BIC:                             298.5\n",
       "Df Model:                           4                                         \n",
       "Covariance Type:            nonrobust                                         \n",
       "==================================================================================\n",
       "                     coef    std err          t      P>|t|      [0.025      0.975]\n",
       "----------------------------------------------------------------------------------\n",
       "Intercept          0.1008      0.136      0.743      0.460      -0.169       0.370\n",
       "X                  0.9050      0.205      4.423      0.000       0.499       1.311\n",
       "np.power(X, 2)    -2.5059      0.221    -11.336      0.000      -2.945      -2.067\n",
       "np.power(X, 3)     0.0338      0.073      0.466      0.642      -0.110       0.178\n",
       "np.power(X, 4)     0.1042      0.045      2.309      0.023       0.015       0.194\n",
       "==============================================================================\n",
       "Omnibus:                        2.476   Durbin-Watson:                   2.163\n",
       "Prob(Omnibus):                  0.290   Jarque-Bera (JB):                2.097\n",
       "Skew:                           0.118   Prob(JB):                        0.351\n",
       "Kurtosis:                       3.669   Cond. No.                         19.9\n",
       "==============================================================================\n",
       "\n",
       "Notes:\n",
       "[1] Standard Errors assume that the covariance matrix of the errors is correctly specified.\n",
       "\"\"\""
      ]
     },
     "execution_count": 46,
     "metadata": {},
     "output_type": "execute_result"
    }
   ],
   "source": [
    "model4 = smf.ols('y ~ X + np.power(X,2) + np.power(X,3)+ np.power(X,4)', data=df).fit()\n",
    "model4.summary()"
   ]
  },
  {
   "cell_type": "markdown",
   "id": "f4290338-1ece-48e0-9c10-9627bfbe5018",
   "metadata": {},
   "source": [
    "**[ANSWER] Quartic model: the coefficient X4 and intercept estimates are statistically insignificant at the 5% level. It's also confirmed by higher LOOCV error.** "
   ]
  },
  {
   "cell_type": "markdown",
   "id": "1b1b9cbe-9afb-4811-81b9-f00522b41b1b",
   "metadata": {},
   "source": [
    "___"
   ]
  },
  {
   "cell_type": "markdown",
   "id": "d876b320-9ee5-4fbb-8454-b0260167b443",
   "metadata": {},
   "source": [
    "### 9."
   ]
  },
  {
   "cell_type": "code",
   "execution_count": 47,
   "id": "b69c9bf2-5c59-4ebb-b000-e8f5fa1f27e7",
   "metadata": {},
   "outputs": [
    {
     "data": {
      "text/html": [
       "<div>\n",
       "<style scoped>\n",
       "    .dataframe tbody tr th:only-of-type {\n",
       "        vertical-align: middle;\n",
       "    }\n",
       "\n",
       "    .dataframe tbody tr th {\n",
       "        vertical-align: top;\n",
       "    }\n",
       "\n",
       "    .dataframe thead th {\n",
       "        text-align: right;\n",
       "    }\n",
       "</style>\n",
       "<table border=\"1\" class=\"dataframe\">\n",
       "  <thead>\n",
       "    <tr style=\"text-align: right;\">\n",
       "      <th></th>\n",
       "      <th>crim</th>\n",
       "      <th>zn</th>\n",
       "      <th>indus</th>\n",
       "      <th>chas</th>\n",
       "      <th>nox</th>\n",
       "      <th>rm</th>\n",
       "      <th>age</th>\n",
       "      <th>dis</th>\n",
       "      <th>rad</th>\n",
       "      <th>tax</th>\n",
       "      <th>ptratio</th>\n",
       "      <th>lstat</th>\n",
       "      <th>medv</th>\n",
       "    </tr>\n",
       "  </thead>\n",
       "  <tbody>\n",
       "    <tr>\n",
       "      <th>0</th>\n",
       "      <td>0.00632</td>\n",
       "      <td>18.0</td>\n",
       "      <td>2.31</td>\n",
       "      <td>0</td>\n",
       "      <td>0.538</td>\n",
       "      <td>6.575</td>\n",
       "      <td>65.2</td>\n",
       "      <td>4.0900</td>\n",
       "      <td>1</td>\n",
       "      <td>296</td>\n",
       "      <td>15.3</td>\n",
       "      <td>4.98</td>\n",
       "      <td>24.0</td>\n",
       "    </tr>\n",
       "    <tr>\n",
       "      <th>1</th>\n",
       "      <td>0.02731</td>\n",
       "      <td>0.0</td>\n",
       "      <td>7.07</td>\n",
       "      <td>0</td>\n",
       "      <td>0.469</td>\n",
       "      <td>6.421</td>\n",
       "      <td>78.9</td>\n",
       "      <td>4.9671</td>\n",
       "      <td>2</td>\n",
       "      <td>242</td>\n",
       "      <td>17.8</td>\n",
       "      <td>9.14</td>\n",
       "      <td>21.6</td>\n",
       "    </tr>\n",
       "  </tbody>\n",
       "</table>\n",
       "</div>"
      ],
      "text/plain": [
       "      crim    zn  indus  chas    nox     rm   age     dis  rad  tax  ptratio  \\\n",
       "0  0.00632  18.0   2.31     0  0.538  6.575  65.2  4.0900    1  296     15.3   \n",
       "1  0.02731   0.0   7.07     0  0.469  6.421  78.9  4.9671    2  242     17.8   \n",
       "\n",
       "   lstat  medv  \n",
       "0   4.98  24.0  \n",
       "1   9.14  21.6  "
      ]
     },
     "execution_count": 47,
     "metadata": {},
     "output_type": "execute_result"
    }
   ],
   "source": [
    "Boston = load_data(\"Boston\")\n",
    "Boston.head(2)"
   ]
  },
  {
   "cell_type": "markdown",
   "id": "bf81e75a-1941-4820-bda1-1122121736d9",
   "metadata": {},
   "source": [
    "#### (a)"
   ]
  },
  {
   "cell_type": "code",
   "execution_count": 48,
   "id": "eea49af3-335e-4c6a-a98e-fcd6832e49e6",
   "metadata": {},
   "outputs": [
    {
     "data": {
      "text/plain": [
       "22.532806324110677"
      ]
     },
     "execution_count": 48,
     "metadata": {},
     "output_type": "execute_result"
    }
   ],
   "source": [
    "Boston['medv'].mean()"
   ]
  },
  {
   "cell_type": "markdown",
   "id": "d53fe370-4b00-4d72-909f-fb8ad82f96a0",
   "metadata": {},
   "source": [
    "#### (b)"
   ]
  },
  {
   "cell_type": "code",
   "execution_count": 49,
   "id": "6756f594-e9dd-4e4b-8250-5ac7d26b45e3",
   "metadata": {},
   "outputs": [
    {
     "data": {
      "text/plain": [
       "0.4088611474975351"
      ]
     },
     "execution_count": 49,
     "metadata": {},
     "output_type": "execute_result"
    }
   ],
   "source": [
    "SE=Boston['medv'].std()/np.sqrt(Boston.shape[0])\n",
    "SE"
   ]
  },
  {
   "cell_type": "markdown",
   "id": "481090d6-1446-43a1-a271-c09ce99581c8",
   "metadata": {},
   "source": [
    "#### (c)"
   ]
  },
  {
   "cell_type": "code",
   "execution_count": 50,
   "id": "1f3aa0c3-651b-4429-b3d1-a192cc669aa2",
   "metadata": {},
   "outputs": [],
   "source": [
    "def mean_func (idx):\n",
    "   return Boston['medv'].loc[idx].mean()"
   ]
  },
  {
   "cell_type": "code",
   "execution_count": 51,
   "id": "79bc4a78-bf53-46ad-a061-ad403f732085",
   "metadata": {},
   "outputs": [],
   "source": [
    "def boot_SE(func,n=None,B=1000,seed=0):\n",
    "    rng = np.random.default_rng(seed)\n",
    "    first_, second_ = 0, 0\n",
    "    n = n or Boston.shape[0]\n",
    "    for _ in range(B):\n",
    "        idx = rng.choice(Boston.index,n,replace=True)\n",
    "        value = func(idx)\n",
    "        first_ += value\n",
    "        second_ += value**2\n",
    "    return np.sqrt(second_ / B - (first_ / B)**2)"
   ]
  },
  {
   "cell_type": "code",
   "execution_count": 52,
   "id": "04d71986-c1be-4dbb-8deb-79c76af66e87",
   "metadata": {},
   "outputs": [
    {
     "data": {
      "text/plain": [
       "0.41253476750888246"
      ]
     },
     "execution_count": 52,
     "metadata": {},
     "output_type": "execute_result"
    }
   ],
   "source": [
    "bootstrap_SE = boot_SE(mean_func,B=1000,seed=0)\n",
    "bootstrap_SE"
   ]
  },
  {
   "cell_type": "markdown",
   "id": "d65a5ae7-c379-4dd5-a951-2346dae32139",
   "metadata": {},
   "source": [
    "**[ANSWER] Bootstrap SE is close to the previous estimation of SE** "
   ]
  },
  {
   "cell_type": "markdown",
   "id": "08668eb5-8390-470d-b2e0-131ac847b5f3",
   "metadata": {},
   "source": [
    "#### (d)"
   ]
  },
  {
   "cell_type": "code",
   "execution_count": 53,
   "id": "e7ce6248-196b-4136-9071-27c830d00db6",
   "metadata": {},
   "outputs": [
    {
     "data": {
      "text/plain": [
       "(21.729528014578595, 23.33608463364276)"
      ]
     },
     "execution_count": 53,
     "metadata": {},
     "output_type": "execute_result"
    }
   ],
   "source": [
    "st.t.interval(0.95, Boston.shape[0]-1, loc=Boston['medv'].mean(), scale=st.sem(Boston['medv']))"
   ]
  },
  {
   "cell_type": "code",
   "execution_count": 54,
   "id": "ee882cc0-c9cd-4c7a-a4e5-863f1b93a6e7",
   "metadata": {},
   "outputs": [
    {
     "data": {
      "text/plain": [
       "[21.707736789092912, 23.35787585912844]"
      ]
     },
     "execution_count": 54,
     "metadata": {},
     "output_type": "execute_result"
    }
   ],
   "source": [
    "ci=[]\n",
    "ci.append(Boston['medv'].mean()-2*bootstrap_SE)\n",
    "ci.append(Boston['medv'].mean()+2*bootstrap_SE)\n",
    "ci"
   ]
  },
  {
   "cell_type": "markdown",
   "id": "c82bb495-8bc0-4300-8b58-95a1b56029e4",
   "metadata": {},
   "source": [
    "**[ANSWER] Confidence interval calculated as $$[ˆ µ − 2SE(ˆ µ), µˆ + 2SE(ˆ µ)]$$ gives wider interval than `scipy.stats`** "
   ]
  },
  {
   "cell_type": "markdown",
   "id": "0254e3d8-b171-42c0-a21a-7a83f3ffefbf",
   "metadata": {},
   "source": [
    "#### (e)"
   ]
  },
  {
   "cell_type": "code",
   "execution_count": 55,
   "id": "4fb260ec-663b-4d15-ab6b-0c968741d7fa",
   "metadata": {},
   "outputs": [
    {
     "data": {
      "text/plain": [
       "21.2"
      ]
     },
     "execution_count": 55,
     "metadata": {},
     "output_type": "execute_result"
    }
   ],
   "source": [
    "Boston['medv'].median()"
   ]
  },
  {
   "cell_type": "markdown",
   "id": "c002a513-0818-463a-8d39-e3fa6e59c96b",
   "metadata": {},
   "source": [
    "#### (f)"
   ]
  },
  {
   "cell_type": "code",
   "execution_count": 56,
   "id": "19119752-0514-431e-9f40-2d5365dc79c7",
   "metadata": {},
   "outputs": [],
   "source": [
    "def median_func (idx):\n",
    "   return Boston['medv'].loc[idx].median()"
   ]
  },
  {
   "cell_type": "code",
   "execution_count": 57,
   "id": "264a42ec-068b-4c4b-83b5-6b84fb1f7927",
   "metadata": {},
   "outputs": [
    {
     "data": {
      "text/plain": [
       "0.36944622071302163"
      ]
     },
     "execution_count": 57,
     "metadata": {},
     "output_type": "execute_result"
    }
   ],
   "source": [
    "bootstrap_SE1 = boot_SE(median_func,B=1000,seed=0)\n",
    "bootstrap_SE1"
   ]
  },
  {
   "cell_type": "markdown",
   "id": "6b7f3ebe-e2e1-41b2-92d8-8df09f845dd8",
   "metadata": {},
   "source": [
    "#### (g)"
   ]
  },
  {
   "cell_type": "code",
   "execution_count": 58,
   "id": "9dbb02a3-9ba8-4fd4-8809-ebcda4605ee8",
   "metadata": {},
   "outputs": [
    {
     "data": {
      "text/plain": [
       "12.75"
      ]
     },
     "execution_count": 58,
     "metadata": {},
     "output_type": "execute_result"
    }
   ],
   "source": [
    "np.percentile(Boston['medv'], 10)"
   ]
  },
  {
   "cell_type": "markdown",
   "id": "b8de2ac0-8096-45ae-91cb-bf6b262a87c6",
   "metadata": {},
   "source": [
    "#### (h)"
   ]
  },
  {
   "cell_type": "code",
   "execution_count": 59,
   "id": "834da968-9dc5-4ec7-8c6a-f4c7d2e034b0",
   "metadata": {},
   "outputs": [],
   "source": [
    "def percentile_func (idx):\n",
    "   return np.percentile(Boston['medv'].loc[idx], 10)"
   ]
  },
  {
   "cell_type": "code",
   "execution_count": 60,
   "id": "b726d3d8-9597-426c-affa-5a149ecfd086",
   "metadata": {},
   "outputs": [
    {
     "data": {
      "text/plain": [
       "0.5034541091295026"
      ]
     },
     "execution_count": 60,
     "metadata": {},
     "output_type": "execute_result"
    }
   ],
   "source": [
    "bootstrap_SE2 = boot_SE(percentile_func,B=1000,seed=0)\n",
    "bootstrap_SE2"
   ]
  }
 ],
 "metadata": {
  "kernelspec": {
   "display_name": "Python 3 (ipykernel)",
   "language": "python",
   "name": "python3"
  },
  "language_info": {
   "codemirror_mode": {
    "name": "ipython",
    "version": 3
   },
   "file_extension": ".py",
   "mimetype": "text/x-python",
   "name": "python",
   "nbconvert_exporter": "python",
   "pygments_lexer": "ipython3",
   "version": "3.11.7"
  }
 },
 "nbformat": 4,
 "nbformat_minor": 5
}
